{
 "metadata": {
  "name": "",
  "signature": "sha256:74840442110586770ae36a1725950eaec2a08600925c55ea23005138a36283f8"
 },
 "nbformat": 3,
 "nbformat_minor": 0,
 "worksheets": [
  {
   "cells": [
    {
     "cell_type": "markdown",
     "metadata": {},
     "source": [
      "#Fitting a suite of datasets\n",
      "\n",
      "In this recipe, we'll consider ways to fit a model to a large number of datasets."
     ]
    },
    {
     "cell_type": "markdown",
     "metadata": {},
     "source": [
      "### Ingredients\n",
      "- A set of parallel systems, with one model to describe them all"
     ]
    },
    {
     "cell_type": "markdown",
     "metadata": {},
     "source": [
      "Method 1:\n",
      "Get a single best value for all datasets together\n",
      "\n",
      "Method 2: get a distribution of values by fitting once to each dataset"
     ]
    },
    {
     "cell_type": "markdown",
     "metadata": {},
     "source": [
      "The case:\n",
      "In this notebook, we'll use a dataset of the "
     ]
    }
   ],
   "metadata": {}
  }
 ]
}