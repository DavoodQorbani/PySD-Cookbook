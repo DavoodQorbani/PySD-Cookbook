{
 "cells": [
  {
   "cell_type": "markdown",
   "metadata": {},
   "source": [
    "## Setting up a cluster with ipython\n",
    "\n",
    "Not the easiest thing in the world, actually\n",
    "\n",
    "http://danielhnyk.cz/ssh-ipcluster-local-and-remote-engines/\n",
    "\n",
    "\n",
    "#### Set up profile on local machine\n",
    "\n",
    "#### Set up remote machines\n",
    "1. install python, ipyparallel\n",
    "2. create ssh key files to access remote machines\n",
    "3. add key files to ssh config file\n",
    "4. add hosts and number of elements to use on each machine\n",
    "\n",
    "#### Start ipcluster\n",
    "\n",
    "```bash\n",
    "ipcluster start --profile=distributed\n",
    "```\n",
    "\n"
   ]
  },
  {
   "cell_type": "code",
   "execution_count": 1,
   "metadata": {
    "collapsed": true
   },
   "outputs": [],
   "source": [
    "import pysd\n",
    "import pyDOE\n",
    "import ipyparallel as ipp"
   ]
  },
  {
   "cell_type": "code",
   "execution_count": 2,
   "metadata": {
    "collapsed": true
   },
   "outputs": [],
   "source": [
    "c = ipp.Client(profile='distributed')\n",
    "dv = c[:]\n",
    "v = c.load_balanced_view()"
   ]
  },
  {
   "cell_type": "markdown",
   "metadata": {},
   "source": [
    "## Set up model on remotes"
   ]
  },
  {
   "cell_type": "code",
   "execution_count": 11,
   "metadata": {
    "collapsed": false
   },
   "outputs": [
    {
     "data": {
      "text/plain": [
       "<AsyncResult: _push>"
      ]
     },
     "execution_count": 11,
     "metadata": {},
     "output_type": "execute_result"
    }
   ],
   "source": [
    "with open('../../models/Predator_Prey/Predator_Prey.py', 'r') as infile:\n",
    "    mdlstr = infile.read()\n",
    "\n",
    "dv.push({'mdlstr':mdlstr})"
   ]
  },
  {
   "cell_type": "code",
   "execution_count": 12,
   "metadata": {
    "collapsed": false
   },
   "outputs": [],
   "source": [
    "%%px\n",
    "with open('mdl.py', 'w') as outfile:\n",
    "    outfile.write(mdlstr)\n",
    "    \n",
    "import pysd\n",
    "model = pysd.load('mdl.py')"
   ]
  },
  {
   "cell_type": "code",
   "execution_count": 22,
   "metadata": {
    "collapsed": false
   },
   "outputs": [],
   "source": [
    "%%px\n",
    "ranges = {'predator_food_driven_fertility':(0,.005),\n",
    "          'prey_fertility':(0,10),\n",
    "          'predator_mortality':(0,.1),\n",
    "          'predation_rate':(0,.0005)}\n",
    "keys = ranges.keys()\n",
    "\n",
    "def monte(values):\n",
    "    params = dict(zip(keys, values))\n",
    "    return model.run(params)['prey_population'].max()"
   ]
  },
  {
   "cell_type": "markdown",
   "metadata": {},
   "source": [
    "## Generate Samples"
   ]
  },
  {
   "cell_type": "code",
   "execution_count": 42,
   "metadata": {
    "collapsed": false
   },
   "outputs": [
    {
     "data": {
      "text/plain": [
       "array([[  2.87045323e-04,   3.75347168e-03,   2.12835086e+00,\n",
       "          8.64731825e-02],\n",
       "       [  1.41068448e-04,   4.18200570e-04,   1.06166427e+00,\n",
       "          7.64775689e-02],\n",
       "       [  5.68912216e-05,   2.61479662e-03,   5.17898745e+00,\n",
       "          7.91235670e-02]])"
      ]
     },
     "execution_count": 42,
     "metadata": {},
     "output_type": "execute_result"
    }
   ],
   "source": [
    "#Generate Latin Hypercube Samples in the unit box\n",
    "norm_samples = pyDOE.lhs(n=4, samples=2000)\n",
    "\n",
    "samples = norm_samples*[value[1] for value in ranges.values()]\n",
    "samples[:3]"
   ]
  },
  {
   "cell_type": "code",
   "execution_count": 43,
   "metadata": {
    "collapsed": false
   },
   "outputs": [
    {
     "name": "stdout",
     "output_type": "stream",
     "text": [
      "1 loops, best of 3: 30.3 s per loop\n"
     ]
    }
   ],
   "source": [
    "%%timeit\n",
    "v.map_sync(monte, samples)"
   ]
  },
  {
   "cell_type": "markdown",
   "metadata": {
    "collapsed": true
   },
   "source": [
    "### Locally"
   ]
  },
  {
   "cell_type": "code",
   "execution_count": 44,
   "metadata": {
    "collapsed": true
   },
   "outputs": [],
   "source": [
    "model = pysd.read_vensim('../../models/Predator_Prey/Predator_Prey.mdl')\n",
    "\n",
    "ranges = {'predator_food_driven_fertility':(0,.005),\n",
    "          'prey_fertility':(0,10),\n",
    "          'predator_mortality':(0,.1),\n",
    "          'predation_rate':(0,.0005)}\n",
    "keys = ranges.keys()\n",
    "\n",
    "def monte(values):\n",
    "    params = dict(zip(keys, values))\n",
    "    return model.run(params)['prey_population'].max()"
   ]
  },
  {
   "cell_type": "code",
   "execution_count": 45,
   "metadata": {
    "collapsed": false
   },
   "outputs": [
    {
     "name": "stdout",
     "output_type": "stream",
     "text": [
      "1 loops, best of 3: 1min 28s per loop\n"
     ]
    }
   ],
   "source": [
    "%%timeit\n",
    "map(monte, samples)"
   ]
  },
  {
   "cell_type": "code",
   "execution_count": 46,
   "metadata": {
    "collapsed": false
   },
   "outputs": [
    {
     "data": {
      "text/plain": [
       "\u001b[0;31mOut[0:13]: \u001b[0m'192.168.1.5'"
      ]
     },
     "metadata": {},
     "output_type": "display_data"
    },
    {
     "data": {
      "text/plain": [
       "\u001b[0;31mOut[1:13]: \u001b[0m'192.168.1.5'"
      ]
     },
     "metadata": {},
     "output_type": "display_data"
    },
    {
     "data": {
      "text/plain": [
       "\u001b[0;31mOut[2:13]: \u001b[0m'192.168.1.5'"
      ]
     },
     "metadata": {},
     "output_type": "display_data"
    },
    {
     "data": {
      "text/plain": [
       "\u001b[0;31mOut[3:13]: \u001b[0m'192.168.1.5'"
      ]
     },
     "metadata": {},
     "output_type": "display_data"
    },
    {
     "data": {
      "text/plain": [
       "\u001b[0;31mOut[4:13]: \u001b[0m'192.168.1.5'"
      ]
     },
     "metadata": {},
     "output_type": "display_data"
    },
    {
     "data": {
      "text/plain": [
       "\u001b[0;31mOut[5:13]: \u001b[0m'192.168.1.5'"
      ]
     },
     "metadata": {},
     "output_type": "display_data"
    },
    {
     "data": {
      "text/plain": [
       "\u001b[0;31mOut[6:13]: \u001b[0m'192.168.1.5'"
      ]
     },
     "metadata": {},
     "output_type": "display_data"
    },
    {
     "data": {
      "text/plain": [
       "\u001b[0;31mOut[7:13]: \u001b[0m'192.168.1.5'"
      ]
     },
     "metadata": {},
     "output_type": "display_data"
    }
   ],
   "source": [
    "%%px\n",
    "import socket\n",
    "socket.gethostbyname(socket.gethostname())"
   ]
  },
  {
   "cell_type": "code",
   "execution_count": null,
   "metadata": {
    "collapsed": true
   },
   "outputs": [],
   "source": []
  }
 ],
 "metadata": {
  "kernelspec": {
   "display_name": "Python 2",
   "language": "python",
   "name": "python2"
  },
  "language_info": {
   "codemirror_mode": {
    "name": "ipython",
    "version": 2
   },
   "file_extension": ".py",
   "mimetype": "text/x-python",
   "name": "python",
   "nbconvert_exporter": "python",
   "pygments_lexer": "ipython2",
   "version": "2.7.10"
  }
 },
 "nbformat": 4,
 "nbformat_minor": 0
}
