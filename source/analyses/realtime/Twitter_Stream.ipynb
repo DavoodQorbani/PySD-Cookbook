{
 "cells": [
  {
   "cell_type": "markdown",
   "metadata": {},
   "source": [
    "#Feeding models with realtime streaming data\n",
    "\n",
    "In this example, we'll construct a very simple model of the number of posts relating to a given topic on twitter timelines around the world. We'll feed the model with live streaming data from the twitter API and run the model in real time."
   ]
  },
  {
   "cell_type": "markdown",
   "metadata": {},
   "source": [
    "##Ingredients\n",
    "\n",
    "#### Libraries\n",
    "In addition to our standard data analytics stack, we'll take advantage of the [tweepy](http://tweepy.readthedocs.org/) library for interacting with the twitter API, the standard python library for dealing with [JSON](https://docs.python.org/2/library/json.html) objects, and the standard python [threading](https://docs.python.org/2/library/threading.html) library, to give us access to both the stream and the plots in real time."
   ]
  },
  {
   "cell_type": "code",
   "execution_count": 1,
   "metadata": {
    "collapsed": false
   },
   "outputs": [
    {
     "name": "stdout",
     "output_type": "stream",
     "text": [
      "Using matplotlib backend: MacOSX\n",
      "Populating the interactive namespace from numpy and matplotlib\n"
     ]
    }
   ],
   "source": [
    "%pylab\n",
    "import tweepy\n",
    "import json\n",
    "import pysd\n",
    "import threading\n",
    "from matplotlib import animation"
   ]
  },
  {
   "cell_type": "markdown",
   "metadata": {},
   "source": [
    "#### Twitter Credentials\n",
    "If you want to execute this recipe, you'll need to [sign up for a twitter developer account](https://dev.twitter.com/) and create a file containing your credentials. \n",
    "\n",
    "Name this file `_twitter_credentials.py` and save it in the working directory. It should contain something similar to:\n",
    "\n",
    "    consumer_key = 'sdjfhkdgjhsk8u09wejne4vdj8j34'\n",
    "    consumer_secret = 'nvjsdv8wp43nneri'\n",
    "    access_token = 'vndisoerihosfdbuttonmashingjkfdlasnvei'\n",
    "    access_token_secret = 'navdjewrjodfjkmorebuttonmashingnjkasdoinv'\n",
    "\n",
    "We can load these into our environment using the `import *` syntax."
   ]
  },
  {
   "cell_type": "code",
   "execution_count": 2,
   "metadata": {
    "collapsed": true
   },
   "outputs": [],
   "source": [
    "from _twitter_credentials import *"
   ]
  },
  {
   "cell_type": "markdown",
   "metadata": {},
   "source": [
    "#### Model\n",
    "\n",
    "Our model is a simple delay process. The inflow of the process is the rate at which twitter users post messages containing our keywords, and the level decays over time as posts fall out of the top of users timelines.\n",
    "\n",
    "We'll explicitly set the timescale in this demo, to show the behavior of the system in a short timeperiod. "
   ]
  },
  {
   "cell_type": "code",
   "execution_count": 3,
   "metadata": {
    "collapsed": true
   },
   "outputs": [],
   "source": [
    "model = pysd.read_vensim('../../models/Twitter/Twitter.mdl')\n",
    "model.set_components({'displacement_timescale':600})"
   ]
  },
  {
   "cell_type": "markdown",
   "metadata": {},
   "source": [
    "## The Recipe\n",
    "\n",
    "\n",
    "#### Listening to twitter\n",
    "The first thing we'll do is to create a variable that will track the total number of posts recieved in the last model interation timeperiod. This counter will be reset after every model timestep."
   ]
  },
  {
   "cell_type": "code",
   "execution_count": 4,
   "metadata": {
    "collapsed": true
   },
   "outputs": [],
   "source": [
    "counter = 0"
   ]
  },
  {
   "cell_type": "markdown",
   "metadata": {},
   "source": [
    "Next, we'll construct a function that will be run whenever a tweet is recieved from the API. This function will increase the counter value, and format the tweet to print to the screen."
   ]
  },
  {
   "cell_type": "code",
   "execution_count": 6,
   "metadata": {
    "collapsed": false
   },
   "outputs": [],
   "source": [
    "class TweetListener(tweepy.StreamListener):\n",
    "    def on_data(self, data):\n",
    "        global counter\n",
    "        counter += 1\n",
    "        \n",
    "        # Twitter returns data in JSON format - we need to decode it first\n",
    "        decoded = json.loads(data)\n",
    "\n",
    "        # Also, we convert UTF-8 to ASCII ignoring all bad characters sent by users\n",
    "        print '@%s: %s\\n' % (decoded['user']['screen_name'], decoded['text'].encode('ascii', 'ignore'))\n",
    "        return True\n",
    "\n",
    "    def on_error(self, status):\n",
    "        print status"
   ]
  },
  {
   "cell_type": "markdown",
   "metadata": {},
   "source": [
    "The tweepy library manages formatting our credentials for the API request:"
   ]
  },
  {
   "cell_type": "code",
   "execution_count": 7,
   "metadata": {
    "collapsed": true
   },
   "outputs": [],
   "source": [
    "auth = tweepy.OAuthHandler(consumer_key, consumer_secret)\n",
    "auth.set_access_token(access_token, access_token_secret)"
   ]
  },
  {
   "cell_type": "markdown",
   "metadata": {},
   "source": [
    "Finally we create the object that will parse the twitter stream, and start it within its own thread."
   ]
  },
  {
   "cell_type": "code",
   "execution_count": 8,
   "metadata": {
    "collapsed": true
   },
   "outputs": [],
   "source": [
    "stream = tweepy.Stream(auth, TweetListener())\n",
    "\n",
    "t = threading.Thread(target=stream.filter, kwargs={'track':['ISDC', 'PySD', 'ISDC15', 'Trump']})\n",
    "t.daemon = True\n",
    "t.start()"
   ]
  },
  {
   "cell_type": "markdown",
   "metadata": {},
   "source": [
    "#### Animation\n",
    "\n",
    "First we create a function that will be called at every step in the integration:"
   ]
  },
  {
   "cell_type": "code",
   "execution_count": 9,
   "metadata": {
    "collapsed": false
   },
   "outputs": [
    {
     "name": "stdout",
     "output_type": "stream",
     "text": [
      "@TrumpIssues: RT @realDonaldTrump: \"@DillyDoesIt Trump has no problem telling it how it is, isn't that what everyone has been wanting from a President? #\n",
      "\n",
      "@FeedAtheism: Trump vs Trump http://t.co/mXXZDulCLP #atheist #atheism\n",
      "\n",
      "@Cutiepi2u: RT @kausmickey: Trump on CBS: 1) immigration immigration immigration 2) retreats on \"heroes\" without apologizing 3) 3rd party run \"very doa\n",
      "\n",
      "@spikepriggen: RT @SenatorReid: I ask each Republican running for President: name one meaningful difference between your immigration policy and Trump's im\n",
      "\n",
      "@NuelDark: @edwardsnowjob @thr ofcourse yes...as long as Donald Trump keeps being insensitive\n",
      "\n"
     ]
    }
   ],
   "source": [
    "#make the animation\n",
    "def animate(t):\n",
    "    global counter\n",
    "    #run the simulation forward\n",
    "    time = model.components.t+dt\n",
    "    model.run({'tweeting':counter}, \n",
    "              return_timestamps=time,\n",
    "              return_columns=['tweeting', 'posts_on_timeline'],\n",
    "              initial_condition='current',\n",
    "              collect=True)\n",
    "    out = model.get_record()\n",
    "    ax.plot(out['tweeting'], 'r', label='Tweeting')\n",
    "    ax.plot(out['posts_on_timeline'], 'b', label='Posts on Timeline')\n",
    "    counter = 0"
   ]
  },
  {
   "cell_type": "markdown",
   "metadata": {},
   "source": [
    "Lastly we set the parameters for the animation, set up the figure, reset the counter (which has been accumulating posts since we ran the first part of the code) and start the animation."
   ]
  },
  {
   "cell_type": "code",
   "execution_count": 10,
   "metadata": {
    "collapsed": false
   },
   "outputs": [
    {
     "name": "stdout",
     "output_type": "stream",
     "text": [
      "@marcelkinder: RT @SkyNews: It's emerged Donald Trump avoided military service five times during the Vietnam War http://t.co/MDyuP2lcrS http://t.co/PAhBVr\n",
      "\n",
      "@dc2net: Lindsey Graham to Trump: Stop being ajackass http://t.co/LeVTFxMGaS\n",
      "\n",
      "@lowdownny: Jon Stewart: Donald Trump Has No Control Over \"Projectile Vomit Of Dickishness\" http://t.co/Ai4mGve512\n",
      "\n",
      "@Zory_F: Se popularizan en Texas las piatas de Donald Trump http://t.co/jHEvAmJmzU\n",
      "\n",
      "@all_sabrina: Trump owes Sanders an apology http://t.co/p8KrHw93YE\n",
      "\n",
      "@cnewportlogan: RT @SenatorReid: I ask each Republican running for President: name one meaningful difference between your immigration policy and Trump's im\n",
      "\n",
      "@TonyPajamas305: Coincidence? I think not. #MakeAmericaGreatAgain  https://t.co/FxSNY0qke0\n",
      "\n",
      "@TUSK81: RT @SenatorReid: I ask each Republican running for President: name one meaningful difference between your immigration policy and Trump's im\n",
      "\n",
      "@Fox5KRBK: Has Trump gone too far? http://t.co/xtAe7wiIdW\n",
      "\n",
      "@BurgerVonStadt: RT @redsteeze: Fun! now do your abortion beliefs and Kermit Gosnell\n",
      "https://t.co/bqYUXTBjl9\n",
      "\n",
      "@carmendelessio: RT @jayrosen_nyu: Try this hypothesis: The press has no idea how to cover Trump. Known methods have failed. It's embarrassed to admit to an\n",
      "\n",
      "@brontyman: Donald Trump Wars With Iowa Paper Over 'Drop Out' Op-Ed http://t.co/hoQg6NqzmL via @nbcnews\n",
      "\n",
      "@imsteveduncan: Jon Stewart blasts Donald Trump for John McCain comments http://t.co/hW9YywkkW8 @EW\n",
      "\n"
     ]
    },
    {
     "data": {
      "text/plain": [
       "<matplotlib.animation.FuncAnimation at 0x10a672f10>"
      ]
     },
     "execution_count": 10,
     "metadata": {},
     "output_type": "execute_result"
    }
   ],
   "source": [
    "#set the animation parameters\n",
    "fps=1\n",
    "seconds=60*30\n",
    "dt=1./fps    \n",
    "\n",
    "#set up the plot\n",
    "fig, ax = plt.subplots()\n",
    "ax.set_xlim(0,seconds)\n",
    "title = ax.set_title('Expected Twitter Messages on First Page of Feed')\n",
    "ax.set_xlabel('Seconds')\n",
    "ax.set_ylabel('Posts, Posts/second')\n",
    "    \n",
    "#reset the counter to start fresh.\n",
    "counter=0    \n",
    "    \n",
    "# call the animator.\n",
    "animation.FuncAnimation(fig, animate, repeat=False,\n",
    "                        frames=seconds*fps, interval=1000./fps, \n",
    "                        blit=False)"
   ]
  },
  {
   "cell_type": "code",
   "execution_count": null,
   "metadata": {
    "collapsed": true
   },
   "outputs": [],
   "source": []
  }
 ],
 "metadata": {
  "kernelspec": {
   "display_name": "Python 2",
   "language": "python",
   "name": "python2"
  },
  "language_info": {
   "codemirror_mode": {
    "name": "ipython",
    "version": 2
   },
   "file_extension": ".py",
   "mimetype": "text/x-python",
   "name": "python",
   "nbconvert_exporter": "python",
   "pygments_lexer": "ipython2",
   "version": "2.7.6"
  }
 },
 "nbformat": 4,
 "nbformat_minor": 0
}
