{
 "metadata": {
  "name": "",
  "signature": "sha256:62621abd0f25ee7143340295d392b5e462b80add9646193e37f2b71fefbf306d"
 },
 "nbformat": 3,
 "nbformat_minor": 0,
 "worksheets": [
  {
   "cells": [
    {
     "cell_type": "markdown",
     "metadata": {},
     "source": [
      "#Fitting a model's parameters with run-at-a-time optimization\n",
      "\n",
      "In this notebook, we'll fit a simple compartmental model to disease propagation data. We'll use a standard optimizer built into the python `scipy` library to set two independent parameters to minimize the sum of squared errors between the model's timeseries output and data from the World Health Organization.\n",
      "\n",
      "###When to use this technique\n",
      "A run-at-a-time optimization runs the simulation forward from a single starting point, and so only requires an *a-priori* full state estimate for this initial condition. This makes it especially appropriate when we only have partial information about the state of the system. "
     ]
    },
    {
     "cell_type": "markdown",
     "metadata": {},
     "source": [
      "#Ingredients:\n",
      "\n",
      "We'll use the familiar `pandas` library along with `pysd`, and introduce the optimization functionality provided by `scipy.optimize`."
     ]
    },
    {
     "cell_type": "code",
     "collapsed": false,
     "input": [
      "%pylab inline\n",
      "import pandas as pd\n",
      "import pysd\n",
      "import scipy.optimize"
     ],
     "language": "python",
     "metadata": {},
     "outputs": [
      {
       "output_type": "stream",
       "stream": "stdout",
       "text": [
        "Populating the interactive namespace from numpy and matplotlib\n"
       ]
      }
     ],
     "prompt_number": 1
    },
    {
     "cell_type": "markdown",
     "metadata": {},
     "source": [
      "The model that we'll try to fit is simple 'Susceptible-Infectious' model. This model assumes that everyone is either susceptible, or infectious. It assumes that there is no recovery, or death; and doesn't account for changes in behavior due to the presence of the disease. But it is super simple, and so we'll accept those limitations for now, until we've seen it's fit to the data.\n",
      "\n",
      "<img src=\"models/SI Model.png\" alt=\"Stock and Flow diagram of Susceptible-Infectious model\" style=\"width: 700px;\"/>\n",
      "\n",
      "We'll hold **infectivity** constant, and try to infer values for the **total population** and the **contact frequency**."
     ]
    },
    {
     "cell_type": "code",
     "collapsed": false,
     "input": [
      "model = pysd.read_vensim('models/SI Model.mdl')"
     ],
     "language": "python",
     "metadata": {},
     "outputs": [],
     "prompt_number": 2
    },
    {
     "cell_type": "markdown",
     "metadata": {},
     "source": [
      "We'll fit our model to data from the WHO patient database for Sierra Leone. We see the standard *S-Shaped* growth in the cumulative infections curve. As our model has no structure for representing recovery or death, we will compare this directly to the **Population Infected with Ebola**. We format this dataset in the notebook [Ebola Data Loader]()."
     ]
    },
    {
     "cell_type": "code",
     "collapsed": false,
     "input": [
      "data = pd.read_csv('data/Ebola_in_SL_Data.csv', index_col='Weeks')\n",
      "data.plot();"
     ],
     "language": "python",
     "metadata": {},
     "outputs": [
      {
       "metadata": {},
       "output_type": "display_data",
       "png": "[encoded data removed]",
       "text": [
        "<matplotlib.figure.Figure at 0x106585c10>"
       ]
      }
     ],
     "prompt_number": 3
    },
    {
     "cell_type": "markdown",
     "metadata": {},
     "source": [
      "#Recipe\n",
      "We'll begin by constructing a function which takes the model parameters that we intend to vary, and returns the sum of the squared error between the model's prediction and the reported data.\n",
      "\n",
      "Our optimizer will interact with our parameter set through an ordered list of values, so our function will need to take this list and unpack it before we can pass it into our model.\n",
      "\n",
      "With `pysd` we can ask directly for the model components that we're interested in, at the timestamps that match our data."
     ]
    },
    {
     "cell_type": "code",
     "collapsed": false,
     "input": [
      "def error(param_list):\n",
      "    #unpack the parameter list \n",
      "    population, contact_frequency = param_list\n",
      "    #run the model with the new parameters, returning the info we're interested in\n",
      "    result = model.run(params={'total_population':population,\n",
      "                               'contact_frequency':contact_frequency},\n",
      "                       return_columns=['population_infected_with_ebola'],\n",
      "                       return_timestamps=list(data.index.values))\n",
      "    #return the sum of the squared errors\n",
      "    return sum((result['population_infected_with_ebola'] - data['Cumulative Cases'])**2)\n",
      "\n",
      "error([10000, 10])"
     ],
     "language": "python",
     "metadata": {},
     "outputs": [
      {
       "metadata": {},
       "output_type": "pyout",
       "prompt_number": 4,
       "text": [
        "176776870.08274418"
       ]
      }
     ],
     "prompt_number": 4
    },
    {
     "cell_type": "markdown",
     "metadata": {},
     "source": [
      "We pass this function into the optimization function, along with an initial guess as to the parameters that we're optimizing. There are a number of optimization algorithms, each with their own settings, that are available to us through this interface."
     ]
    },
    {
     "cell_type": "code",
     "collapsed": false,
     "input": [
      "res = scipy.optimize.minimize(error, [10000, 10])\n",
      "res"
     ],
     "language": "python",
     "metadata": {},
     "outputs": [
      {
       "output_type": "stream",
       "stream": "stdout",
       "text": [
        "Illegal input detected (internal error).\n",
        "Run with full_output = 1 to get quantitative information.\n",
        "Illegal input detected (internal error).\n",
        "Run with full_output = 1 to get quantitative information.\n",
        "Illegal input detected (internal error).\n",
        "Run with full_output = 1 to get quantitative information.\n",
        "Illegal input detected (internal error).\n",
        "Run with full_output = 1 to get quantitative information.\n"
       ]
      },
      {
       "metadata": {},
       "output_type": "pyout",
       "prompt_number": 5,
       "text": [
        "   status: 2\n",
        "  success: False\n",
        "     njev: 56\n",
        "     nfev: 241\n",
        " hess_inv: array([[  5.38530003e-08,   4.77726303e-10],\n",
        "       [  4.77726303e-10,   2.90667957e-08]])\n",
        "      fun: 21274100.34004622\n",
        "        x: array([  8.84047045e+03,   8.04099131e+00])\n",
        "  message: 'Desired error not necessarily achieved due to precision loss.'\n",
        "      jac: array([ -0.75,  83.  ])"
       ]
      }
     ],
     "prompt_number": 5
    },
    {
     "cell_type": "markdown",
     "metadata": {},
     "source": [
      "#Result\n",
      "If we run the simulation with the parameters suggested by the optimizer, we see that the model follows the general behavior of the data, but is too simple to truly capture the correct shape of the curve."
     ]
    },
    {
     "cell_type": "code",
     "collapsed": false,
     "input": [
      "population, contact_frequency = res.x\n",
      "result = model.run(params={'total_population':population,\n",
      "                           'contact_frequency':contact_frequency},\n",
      "                   return_columns=['population_infected_with_ebola'],\n",
      "                   return_timestamps=list(data.index.values))\n",
      "\n",
      "plt.plot(result.index, result['population_infected_with_ebola'])\n",
      "plt.plot(data.index, data['Cumulative Cases']);"
     ],
     "language": "python",
     "metadata": {},
     "outputs": [
      {
       "metadata": {},
       "output_type": "display_data",
       "png": "[encoded data removed]",
       "text": [
        "<matplotlib.figure.Figure at 0x106457410>"
       ]
      }
     ],
     "prompt_number": 6
    }
   ],
   "metadata": {}
  }
 ]
}