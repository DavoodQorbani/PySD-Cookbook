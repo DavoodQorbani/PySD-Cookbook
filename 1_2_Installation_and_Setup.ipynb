{
 "metadata": {
  "name": "",
  "signature": "sha256:338cf577c8043f90b52fc5eace61c393ba0b56b4bd3dc2b48930556fb0932bae"
 },
 "nbformat": 3,
 "nbformat_minor": 0,
 "worksheets": [
  {
   "cells": [
    {
     "cell_type": "markdown",
     "metadata": {},
     "source": [
      "#Install Python\n",
      "\n",
      "Some computers come with python preinstalled. To check if you have python already, at a command prompt, type:\n",
      "\n",
      "    python -V\n",
      "    \n",
      "If python is installed, you should see some information about the version you are running. For example:\n",
      "    \n",
      "    Python 2.7.6\n",
      "    \n",
      "If you get an error, you probably need to install python from scratch. To do so, visit https://www.python.org/downloads/ and download the latest version beginning with `2.`. Some of the python utilities we will be using are not yet available in Python 3."
     ]
    },
    {
     "cell_type": "markdown",
     "metadata": {},
     "source": [
      "#Installing pip\n",
      "\n",
      "Pip is the primary python package distribution utility. Depending on how you set up python, you may have Pip already installed. To test this, at your command prompt, type:\n",
      "\n",
      "    pip list\n",
      "\n",
      "If pip is installed, you will see a list of installed packages managed by pip.\n",
      "\n",
      "If you get an error, you will need to install pip from scratch. To do this, follow the instructions here:\n",
      "https://pip.pypa.io/en/latest/installing.html\n",
      "\n",
      "\n"
     ]
    },
    {
     "cell_type": "markdown",
     "metadata": {},
     "source": [
      "#Install the basic Scientific Python Stack\n",
      "\n",
      "There are a few packages which form the core of the python scientific computing stack. They are:\n",
      "\n",
      "1. numpy - a library for matrix-type numerical computation\n",
      "2. scipy - a library which extends numpy with a bunch of useful features, such as stats, etc.\n",
      "3. matplotlib - a basic plotting library\n",
      "4. pandas - a basic data manipulation library\n",
      "5. ipython - an environment for interacting with python and writing clever text/documentation documents, such as this one.\n",
      "\n",
      "To install these packages, use the syntax:\n",
      "\n",
      "    pip install numpy\n",
      "    \n",
      "You may need to prepend the command with `sudo` to give your command administrator priveledges, such as:\n",
      "\n",
      "    sudo pip install numpy\n",
      "    \n",
      "Run the command once for each package, replacing `numpy` with `scipy` etc."
     ]
    },
    {
     "cell_type": "markdown",
     "metadata": {},
     "source": [
      "#Install PySD and its dependencies\n",
      "\n",
      "PySD requires one additional package beyond the basic data science stack, called `parsimonious`. Use pip to install it:\n",
      "\n",
      "    pip install parsimonious\n",
      "    \n",
      "and then install PySD itself:\n",
      "\n",
      "    pip install pysd\n",
      "    \n",
      "This should get you started."
     ]
    },
    {
     "cell_type": "markdown",
     "metadata": {},
     "source": [
      "#Launch iPython Notebook, and get started\n",
      "\n",
      "Now at your command line type:\n",
      "\n",
      "    ipython notebook\n",
      "    \n",
      "Your browser should start, and give you a document much like this one that you can play with."
     ]
    },
    {
     "cell_type": "markdown",
     "metadata": {},
     "source": [
      "#Upgrading PySD\n",
      "\n",
      "PySD is a work in progress, and from time to time, we'll ipgrade its features. To upgrade to the latest version of PySD (or any of the other packages, for that matter) use the syntax:\n",
      "\n",
      "    pip install pysd --upgrade"
     ]
    },
    {
     "cell_type": "code",
     "collapsed": false,
     "input": [],
     "language": "python",
     "metadata": {},
     "outputs": []
    }
   ],
   "metadata": {}
  }
 ]
}