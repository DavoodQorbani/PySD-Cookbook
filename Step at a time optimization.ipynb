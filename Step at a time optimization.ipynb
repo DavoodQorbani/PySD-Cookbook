{
 "metadata": {
  "name": "",
  "signature": "sha256:337f325403ff2f15d5695c639494b7a6b557fa3eb3ccfdac1c441728d9db8762"
 },
 "nbformat": 3,
 "nbformat_minor": 0,
 "worksheets": [
  {
   "cells": [
    {
     "cell_type": "markdown",
     "metadata": {},
     "source": [
      "# Step-at-a-time optimization\n",
      "One of the consequences of forcing our models to obey the markov property is that the dynamic behavior of the model can be represented entirely in the transition from one state of the system to the next. This means that if we have full measurement of the state of the system, we can separate the model's timeseries behavior into a series of independent timesteps. Now we can fit the model parameters to each timestep independently, without worrying about errors compounding thoughout the simulation.\n",
      "\n",
      "We'll demonstrate this fitting of a model to data using PySD to manage our model, pandas to manage our data, and scipy to provide the optimization."
     ]
    },
    {
     "cell_type": "code",
     "collapsed": false,
     "input": [
      "%pylab inline\n",
      "import pandas as pd\n",
      "import pysd\n",
      "import scipy.optimize"
     ],
     "language": "python",
     "metadata": {},
     "outputs": [
      {
       "output_type": "stream",
       "stream": "stdout",
       "text": [
        "Populating the interactive namespace from numpy and matplotlib\n"
       ]
      }
     ],
     "prompt_number": 1
    },
    {
     "cell_type": "markdown",
     "metadata": {},
     "source": [
      "#Demo Case\n",
      "In this demonstration we'll fit the [Lotka\u2013Volterra Model](http://en.wikipedia.org/wiki/Lotka%E2%80%93Volterra_equation) model: \n",
      "<img src=\"models/Predator_Prey.png\" alt=\"Stock and Flow diagram of Lotka-Voltera model\" style=\"width: 300px;\"/>\n",
      "to a predator/prey system consisting of Didinium and Paramecium, that was described in:\n",
      "\n",
      "    Veilleux (1976) \"The analysis of a predatory interaction between Didinium and Paramecium\", Masters thesis, University of Alberta.\n",
      "    \n",
      "There are four parameters in this model that it will be our task to set, with the goal of minimizing the sum of squared errors between the model's step-at-a-time prediction and the measured data."
     ]
    },
    {
     "cell_type": "code",
     "collapsed": false,
     "input": [
      "model = pysd.read_vensim('models/Predator_Prey.mdl')\n",
      "print model.components.doc()"
     ],
     "language": "python",
     "metadata": {},
     "outputs": [
      {
       "output_type": "stream",
       "stream": "stdout",
       "text": [
        "Import of models/Predator_Prey.mdl\n",
        "\n",
        "final_time = 50 \n",
        "Type: Flow or Auxiliary \n",
        "Units: Day \n",
        "The final time for the simulation.\n",
        "\n",
        "initial_time = 0 \n",
        "Type: Flow or Auxiliary \n",
        "Units: Day \n",
        "The initial time for the simulation.\n",
        "\n",
        "predation_rate = 0.0001 \n",
        "Type: Flow or Auxiliary \n",
        "Units: Prey/Day/Prey/Predator [0,0.0001,1e-05] \n",
        "\n",
        "predator_births = self.predator_food_driven_fertility()*self.prey_population()*self.predator_population() \n",
        "Type: Flow or Auxiliary \n",
        "Units: Predator/Day \n",
        "\n",
        "predator_deaths = self.predator_mortality()*self.predator_population() \n",
        "Type: Flow or Auxiliary \n",
        "Units: Predator/Day \n",
        "\n",
        "predator_food_driven_fertility = 0.001 \n",
        "Type: Flow or Auxiliary \n",
        "Units: Predators/Day/Predator/Prey [0,0.0001,1e-06] \n",
        "\n",
        "predator_mortality = 0.01 \n",
        "Type: Flow or Auxiliary \n",
        "Units: Predator/Day/Predator [0,1] \n",
        "\n",
        "predator_population = self.predator_births()-self.predator_deaths() \n",
        "Initial Value: 100 \n",
        "Type: Stock \n",
        "Do not overwrite this functionUnits: Predators \n",
        "\n",
        "prey_births = self.prey_fertility()*self.prey_population() \n",
        "Type: Flow or Auxiliary \n",
        "Units: Prey/Day \n",
        "\n",
        "prey_deaths = self.predation_rate()*self.prey_population()*self.predator_population() \n",
        "Type: Flow or Auxiliary \n",
        "Units: Prey/Day \n",
        "\n",
        "prey_fertility = 2 \n",
        "Type: Flow or Auxiliary \n",
        "Units: Prey/Day/Prey [0,10,0.1] \n",
        "\n",
        "prey_population = self.prey_births()-self.prey_deaths() \n",
        "Initial Value: 250 \n",
        "Type: Stock \n",
        "Do not overwrite this functionUnits: Prey [0,?] \n",
        "\n",
        "time_step = 0.015625 \n",
        "Type: Flow or Auxiliary \n",
        "Units: Day [0,?] \n",
        "The time step for the simulation.\n",
        "\n",
        "\n"
       ]
      }
     ],
     "prompt_number": 2
    },
    {
     "cell_type": "markdown",
     "metadata": {},
     "source": [
      "###Data\n",
      "The data we'll use was compiled from this work by [Christian Jost](http://robjhyndman.com/tsdldata/data/veilleux.dat)."
     ]
    },
    {
     "cell_type": "code",
     "collapsed": false,
     "input": [
      "data = pd.read_csv('data/Veilleux_CC_0.5_Pretator_Prey.txt', sep='\\s+', header=4)\n",
      "data[['prey(#ind/ml)','predator(#ind/ml)']].plot();\n",
      "data.head()"
     ],
     "language": "python",
     "metadata": {},
     "outputs": [
      {
       "html": [
        "<div style=\"max-height:1000px;max-width:1500px;overflow:auto;\">\n",
        "<table border=\"1\" class=\"dataframe\">\n",
        "  <thead>\n",
        "    <tr style=\"text-align: right;\">\n",
        "      <th></th>\n",
        "      <th>time(d)</th>\n",
        "      <th>prey(#ind/ml)</th>\n",
        "      <th>predator(#ind/ml)</th>\n",
        "    </tr>\n",
        "  </thead>\n",
        "  <tbody>\n",
        "    <tr>\n",
        "      <th>0</th>\n",
        "      <td>0.0</td>\n",
        "      <td>15.65</td>\n",
        "      <td>5.76</td>\n",
        "    </tr>\n",
        "    <tr>\n",
        "      <th>1</th>\n",
        "      <td>0.5</td>\n",
        "      <td>53.57</td>\n",
        "      <td>9.05</td>\n",
        "    </tr>\n",
        "    <tr>\n",
        "      <th>2</th>\n",
        "      <td>1.0</td>\n",
        "      <td>73.34</td>\n",
        "      <td>17.26</td>\n",
        "    </tr>\n",
        "    <tr>\n",
        "      <th>3</th>\n",
        "      <td>1.5</td>\n",
        "      <td>93.93</td>\n",
        "      <td>41.97</td>\n",
        "    </tr>\n",
        "    <tr>\n",
        "      <th>4</th>\n",
        "      <td>2.0</td>\n",
        "      <td>115.40</td>\n",
        "      <td>55.97</td>\n",
        "    </tr>\n",
        "  </tbody>\n",
        "</table>\n",
        "</div>"
       ],
       "metadata": {},
       "output_type": "pyout",
       "prompt_number": 3,
       "text": [
        "   time(d)  prey(#ind/ml)  predator(#ind/ml)\n",
        "0      0.0          15.65               5.76\n",
        "1      0.5          53.57               9.05\n",
        "2      1.0          73.34              17.26\n",
        "3      1.5          93.93              41.97\n",
        "4      2.0         115.40              55.97"
       ]
      },
      {
       "metadata": {},
       "output_type": "display_data",
       "png": "[encoded data removed]",
       "text": [
        "<matplotlib.figure.Figure at 0x1116c2d50>"
       ]
      }
     ],
     "prompt_number": 3
    },
    {
     "cell_type": "markdown",
     "metadata": {},
     "source": [
      "#The Recipe\n",
      "\n",
      "As we are analyzing the model a step at a time, it makes sense to restructure our dataframe so that each row contains both the starting and final state of each step. We can do this by merging the dataset with itself, offset by one row. We'll add suffixes to the columns to differentiate between the start and end of each step."
     ]
    },
    {
     "cell_type": "code",
     "collapsed": false,
     "input": [
      "data_steps = pd.merge(data.iloc[:-1], data.iloc[1:].reset_index(drop=True), \n",
      "                      left_index=True, right_index=True, suffixes=('_s','_f'))\n",
      "data_steps.head()"
     ],
     "language": "python",
     "metadata": {},
     "outputs": [
      {
       "html": [
        "<div style=\"max-height:1000px;max-width:1500px;overflow:auto;\">\n",
        "<table border=\"1\" class=\"dataframe\">\n",
        "  <thead>\n",
        "    <tr style=\"text-align: right;\">\n",
        "      <th></th>\n",
        "      <th>time(d)_s</th>\n",
        "      <th>prey(#ind/ml)_s</th>\n",
        "      <th>predator(#ind/ml)_s</th>\n",
        "      <th>time(d)_f</th>\n",
        "      <th>prey(#ind/ml)_f</th>\n",
        "      <th>predator(#ind/ml)_f</th>\n",
        "    </tr>\n",
        "  </thead>\n",
        "  <tbody>\n",
        "    <tr>\n",
        "      <th>0</th>\n",
        "      <td>0.0</td>\n",
        "      <td>15.65</td>\n",
        "      <td>5.76</td>\n",
        "      <td>0.5</td>\n",
        "      <td>53.57</td>\n",
        "      <td>9.05</td>\n",
        "    </tr>\n",
        "    <tr>\n",
        "      <th>1</th>\n",
        "      <td>0.5</td>\n",
        "      <td>53.57</td>\n",
        "      <td>9.05</td>\n",
        "      <td>1.0</td>\n",
        "      <td>73.34</td>\n",
        "      <td>17.26</td>\n",
        "    </tr>\n",
        "    <tr>\n",
        "      <th>2</th>\n",
        "      <td>1.0</td>\n",
        "      <td>73.34</td>\n",
        "      <td>17.26</td>\n",
        "      <td>1.5</td>\n",
        "      <td>93.93</td>\n",
        "      <td>41.97</td>\n",
        "    </tr>\n",
        "    <tr>\n",
        "      <th>3</th>\n",
        "      <td>1.5</td>\n",
        "      <td>93.93</td>\n",
        "      <td>41.97</td>\n",
        "      <td>2.0</td>\n",
        "      <td>115.40</td>\n",
        "      <td>55.97</td>\n",
        "    </tr>\n",
        "    <tr>\n",
        "      <th>4</th>\n",
        "      <td>2.0</td>\n",
        "      <td>115.40</td>\n",
        "      <td>55.97</td>\n",
        "      <td>2.5</td>\n",
        "      <td>76.57</td>\n",
        "      <td>74.91</td>\n",
        "    </tr>\n",
        "  </tbody>\n",
        "</table>\n",
        "</div>"
       ],
       "metadata": {},
       "output_type": "pyout",
       "prompt_number": 4,
       "text": [
        "   time(d)_s  prey(#ind/ml)_s  predator(#ind/ml)_s  time(d)_f  \\\n",
        "0        0.0            15.65                 5.76        0.5   \n",
        "1        0.5            53.57                 9.05        1.0   \n",
        "2        1.0            73.34                17.26        1.5   \n",
        "3        1.5            93.93                41.97        2.0   \n",
        "4        2.0           115.40                55.97        2.5   \n",
        "\n",
        "   prey(#ind/ml)_f  predator(#ind/ml)_f  \n",
        "0            53.57                 9.05  \n",
        "1            73.34                17.26  \n",
        "2            93.93                41.97  \n",
        "3           115.40                55.97  \n",
        "4            76.57                74.91  "
       ]
      }
     ],
     "prompt_number": 4
    },
    {
     "cell_type": "markdown",
     "metadata": {},
     "source": [
      "While this method increases the burden of data that we have to carry, it allows us to use pandas's `apply` functionality to increase computational speed over a `for` loop.\n",
      "\n",
      "We define a function that takes a single step and calculates the sum squared error between the model's prediction of the final datapoint and the actual measured value. The most complicated parts of this function are making sure that the data columns like up properly with the model components."
     ]
    },
    {
     "cell_type": "code",
     "collapsed": false,
     "input": [
      "def one_step_error(row):\n",
      "    result = model.run(return_timestamps=[row['time(d)_f']],\n",
      "                       initial_condition=(row['time(d)_s'], \n",
      "                                          {'predator_population':row['predator(#ind/ml)_s'],\n",
      "                                           'prey_population':row['prey(#ind/ml)_s']}))\n",
      "    sse = ((result.loc[row['time(d)_f']]['predator_population'] - row['predator(#ind/ml)_f'])**2 + \n",
      "           (result.loc[row['time(d)_f']]['prey_population'] - row['prey(#ind/ml)_f'])**2 )\n",
      "    return sse  "
     ],
     "language": "python",
     "metadata": {},
     "outputs": [],
     "prompt_number": 5
    },
    {
     "cell_type": "markdown",
     "metadata": {},
     "source": [
      "Now we define a function that sets the parameters of the model based upon the optimizer's suggestion, and computes the sum squared error for all steps."
     ]
    },
    {
     "cell_type": "code",
     "collapsed": false,
     "input": [
      "def error(parameter_list):\n",
      "    parameter_names = ['predation_rate', 'prey_fertility', 'predator_mortality', 'predator_food_driven_fertility']\n",
      "    model.set_components(params=dict(zip(parameter_names, parameter_list)))\n",
      "    \n",
      "    errors = data_steps.apply(one_step_error, axis=1)\n",
      "    return errors.sum()\n",
      "\n",
      "error([.005, 1, 1, .002])"
     ],
     "language": "python",
     "metadata": {},
     "outputs": [
      {
       "metadata": {},
       "output_type": "pyout",
       "prompt_number": 6,
       "text": [
        "545152.62509171048"
       ]
      }
     ],
     "prompt_number": 6
    },
    {
     "cell_type": "markdown",
     "metadata": {},
     "source": [
      "Now we're ready to use scipy's built-in optimizer."
     ]
    },
    {
     "cell_type": "code",
     "collapsed": false,
     "input": [
      "scipy.optimize.minimize(error, x0=[.005, 1, 1, .002], method='L-BFGS-B', \n",
      "                        bounds=[(0,10), (0,None), (0,10), (0,None)])"
     ],
     "language": "python",
     "metadata": {},
     "outputs": [
      {
       "metadata": {},
       "output_type": "pyout",
       "prompt_number": 7,
       "text": [
        "  status: 0\n",
        " success: True\n",
        "    nfev: 46\n",
        "     fun: 71030.795092335247\n",
        "       x: array([ 0.02612873,  1.46893563,  0.84984734,  0.00714899])\n",
        " message: 'CONVERGENCE: REL_REDUCTION_OF_F_<=_FACTR*EPSMCH'\n",
        "     jac: array([-1.5454134 , -0.02764864, -0.01600711, -3.04135028])\n",
        "     nit: 34"
       ]
      }
     ],
     "prompt_number": 7
    }
   ],
   "metadata": {}
  }
 ]
}