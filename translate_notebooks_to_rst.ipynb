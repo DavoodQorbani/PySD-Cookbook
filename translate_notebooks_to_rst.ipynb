{
 "cells": [
  {
   "cell_type": "markdown",
   "metadata": {},
   "source": [
    "# Translate Notebooks\n",
    "\n",
    "This preprocesses all the ipython notebooks over to rst files so that sphinx can import them."
   ]
  },
  {
   "cell_type": "code",
   "execution_count": 5,
   "metadata": {
    "collapsed": false
   },
   "outputs": [],
   "source": [
    "import glob"
   ]
  },
  {
   "cell_type": "code",
   "execution_count": 40,
   "metadata": {
    "collapsed": false
   },
   "outputs": [
    {
     "data": {
      "text/plain": [
       "['analyses/fitting/Fitting a suite of datasets.ipynb',\n",
       " 'analyses/fitting/Fitting_with_Optimization.ipynb',\n",
       " 'analyses/fitting/MCMC for fitting models.ipynb',\n",
       " 'analyses/fitting/Step_at_a_time_optimization.ipynb',\n",
       " 'analyses/geo/Exploring models across geographic scales.ipynb',\n",
       " 'analyses/getting_started/Hello_World_Teacup.ipynb',\n",
       " 'analyses/getting_started/Installation_and_Setup.ipynb',\n",
       " 'analyses/visualization/Visualizations for Print Media.ipynb',\n",
       " 'data/Baby_Names/Baby_Name_Data.ipynb',\n",
       " 'data/Census/US Census Data Collection.ipynb',\n",
       " 'data/Defects_Synthetic/Manufacturing_Defects_Synthetic.ipynb',\n",
       " 'data/Ebola/Ebola_Data_Loader.ipynb']"
      ]
     },
     "execution_count": 40,
     "metadata": {},
     "output_type": "execute_result"
    }
   ],
   "source": [
    "notebooks = glob.glob('analyses/*/*.ipynb')\n",
    "notebooks += glob.glob('data/*/*.ipynb')\n",
    "notebooks"
   ]
  },
  {
   "cell_type": "code",
   "execution_count": 44,
   "metadata": {
    "collapsed": false
   },
   "outputs": [
    {
     "name": "stdout",
     "output_type": "stream",
     "text": [
      "analyses/fitting/Fitting\\ a\\ suite\\ of\\ datasets.ipynb\n",
      "[NbConvertApp] Converting notebook analyses/fitting/Fitting a suite of datasets.ipynb to rst\n",
      "[NbConvertApp] Writing 421 bytes to docs/analyses/fitting/Fitting a suite of datasets.ipynb.rst\n",
      "analyses/fitting/Fitting_with_Optimization.ipynb\n",
      "[NbConvertApp] Converting notebook analyses/fitting/Fitting_with_Optimization.ipynb to rst\n",
      "[NbConvertApp] Support files will be in docs/analyses/fitting/Fitting_with_Optimization.ipynb_files/\n",
      "[NbConvertApp] Making directory docs/analyses/fitting/Fitting_with_Optimization.ipynb_files/docs/analyses/fitting\n",
      "[NbConvertApp] Making directory docs/analyses/fitting/Fitting_with_Optimization.ipynb_files/docs/analyses/fitting\n",
      "[NbConvertApp] Writing 6498 bytes to docs/analyses/fitting/Fitting_with_Optimization.ipynb.rst\n",
      "analyses/fitting/MCMC\\ for\\ fitting\\ models.ipynb\n",
      "[NbConvertApp] Converting notebook analyses/fitting/MCMC for fitting models.ipynb to rst\n",
      "[NbConvertApp] Writing 265 bytes to docs/analyses/fitting/MCMC for fitting models.ipynb.rst\n",
      "analyses/fitting/Step_at_a_time_optimization.ipynb\n",
      "[NbConvertApp] Converting notebook analyses/fitting/Step_at_a_time_optimization.ipynb to rst\n",
      "[NbConvertApp] Support files will be in docs/analyses/fitting/Step_at_a_time_optimization.ipynb_files/\n",
      "[NbConvertApp] Making directory docs/analyses/fitting/Step_at_a_time_optimization.ipynb_files/docs/analyses/fitting\n",
      "[NbConvertApp] Making directory docs/analyses/fitting/Step_at_a_time_optimization.ipynb_files/docs/analyses/fitting\n",
      "[NbConvertApp] Writing 8377 bytes to docs/analyses/fitting/Step_at_a_time_optimization.ipynb.rst\n",
      "analyses/geo/Exploring\\ models\\ across\\ geographic\\ scales.ipynb\n",
      "[NbConvertApp] Converting notebook analyses/geo/Exploring models across geographic scales.ipynb to rst\n",
      "[NbConvertApp] Support files will be in docs/analyses/geo/Exploring models across geographic scales.ipynb_files/\n",
      "[NbConvertApp] Making directory docs/analyses/geo/Exploring models across geographic scales.ipynb_files/docs/analyses/geo\n",
      "[NbConvertApp] Making directory docs/analyses/geo/Exploring models across geographic scales.ipynb_files/docs/analyses/geo\n",
      "[NbConvertApp] Making directory docs/analyses/geo/Exploring models across geographic scales.ipynb_files/docs/analyses/geo\n",
      "[NbConvertApp] Making directory docs/analyses/geo/Exploring models across geographic scales.ipynb_files/docs/analyses/geo\n",
      "[NbConvertApp] Making directory docs/analyses/geo/Exploring models across geographic scales.ipynb_files/docs/analyses/geo\n",
      "[NbConvertApp] Making directory docs/analyses/geo/Exploring models across geographic scales.ipynb_files/docs/analyses/geo\n",
      "[NbConvertApp] Writing 65995 bytes to docs/analyses/geo/Exploring models across geographic scales.ipynb.rst\n",
      "analyses/getting_started/Hello_World_Teacup.ipynb\n",
      "[NbConvertApp] Converting notebook analyses/getting_started/Hello_World_Teacup.ipynb to rst\n",
      "[NbConvertApp] Support files will be in docs/analyses/getting_started/Hello_World_Teacup.ipynb_files/\n",
      "[NbConvertApp] Making directory docs/analyses/getting_started/Hello_World_Teacup.ipynb_files/docs/analyses/getting_started\n",
      "[NbConvertApp] Making directory docs/analyses/getting_started/Hello_World_Teacup.ipynb_files/docs/analyses/getting_started\n",
      "[NbConvertApp] Making directory docs/analyses/getting_started/Hello_World_Teacup.ipynb_files/docs/analyses/getting_started\n",
      "[NbConvertApp] Making directory docs/analyses/getting_started/Hello_World_Teacup.ipynb_files/docs/analyses/getting_started\n",
      "[NbConvertApp] Making directory docs/analyses/getting_started/Hello_World_Teacup.ipynb_files/docs/analyses/getting_started\n",
      "[NbConvertApp] Making directory docs/analyses/getting_started/Hello_World_Teacup.ipynb_files/docs/analyses/getting_started\n",
      "[NbConvertApp] Making directory docs/analyses/getting_started/Hello_World_Teacup.ipynb_files/docs/analyses/getting_started\n",
      "[NbConvertApp] Making directory docs/analyses/getting_started/Hello_World_Teacup.ipynb_files/docs/analyses/getting_started\n",
      "[NbConvertApp] Writing 10668 bytes to docs/analyses/getting_started/Hello_World_Teacup.ipynb.rst\n",
      "analyses/getting_started/Installation_and_Setup.ipynb\n",
      "[NbConvertApp] Converting notebook analyses/getting_started/Installation_and_Setup.ipynb to rst\n",
      "[NbConvertApp] Writing 2853 bytes to docs/analyses/getting_started/Installation_and_Setup.ipynb.rst\n",
      "analyses/visualization/Visualizations\\ for\\ Print\\ Media.ipynb\n",
      "[NbConvertApp] Converting notebook analyses/visualization/Visualizations for Print Media.ipynb to rst\n",
      "[NbConvertApp] Support files will be in docs/analyses/visualization/Visualizations for Print Media.ipynb_files/\n",
      "[NbConvertApp] Making directory docs/analyses/visualization/Visualizations for Print Media.ipynb_files/docs/analyses/visualization\n",
      "[NbConvertApp] Making directory docs/analyses/visualization/Visualizations for Print Media.ipynb_files/docs/analyses/visualization\n",
      "[NbConvertApp] Making directory docs/analyses/visualization/Visualizations for Print Media.ipynb_files/docs/analyses/visualization\n",
      "[NbConvertApp] Writing 6232 bytes to docs/analyses/visualization/Visualizations for Print Media.ipynb.rst\n",
      "data/Baby_Names/Baby_Name_Data.ipynb\n",
      "[NbConvertApp] Converting notebook data/Baby_Names/Baby_Name_Data.ipynb to rst\n",
      "[NbConvertApp] Writing 943 bytes to docs/data/Baby_Names/Baby_Name_Data.ipynb.rst\n",
      "data/Census/US\\ Census\\ Data\\ Collection.ipynb\n",
      "[NbConvertApp] Converting notebook data/Census/US Census Data Collection.ipynb to rst\n",
      "[NbConvertApp] Writing 54172 bytes to docs/data/Census/US Census Data Collection.ipynb.rst\n",
      "data/Defects_Synthetic/Manufacturing_Defects_Synthetic.ipynb\n",
      "[NbConvertApp] Converting notebook data/Defects_Synthetic/Manufacturing_Defects_Synthetic.ipynb to rst\n",
      "[NbConvertApp] Writing 1993 bytes to docs/data/Defects_Synthetic/Manufacturing_Defects_Synthetic.ipynb.rst\n",
      "data/Ebola/Ebola_Data_Loader.ipynb\n",
      "[NbConvertApp] Converting notebook data/Ebola/Ebola_Data_Loader.ipynb to rst\n",
      "[NbConvertApp] Support files will be in docs/data/Ebola/Ebola_Data_Loader.ipynb_files/\n",
      "[NbConvertApp] Making directory docs/data/Ebola/Ebola_Data_Loader.ipynb_files/docs/data/Ebola\n",
      "[NbConvertApp] Writing 7310 bytes to docs/data/Ebola/Ebola_Data_Loader.ipynb.rst\n"
     ]
    }
   ],
   "source": [
    "outfile_list = []\n",
    "for infile in notebooks:\n",
    "    infile = infile.replace(' ','\\ ')\n",
    "    print infile\n",
    "    outfile = 'docs/'+infile\n",
    "    outfile_list.append(outfile)\n",
    "    !ipython nbconvert --to rst $infile --output $outfile"
   ]
  },
  {
   "cell_type": "markdown",
   "metadata": {},
   "source": [
    "### Need to copy image representation of models over to a parallel directory under docs too"
   ]
  },
  {
   "cell_type": "code",
   "execution_count": null,
   "metadata": {
    "collapsed": true
   },
   "outputs": [],
   "source": []
  }
 ],
 "metadata": {
  "kernelspec": {
   "display_name": "Python 2",
   "language": "python",
   "name": "python2"
  },
  "language_info": {
   "codemirror_mode": {
    "name": "ipython",
    "version": 2
   },
   "file_extension": ".py",
   "mimetype": "text/x-python",
   "name": "python",
   "nbconvert_exporter": "python",
   "pygments_lexer": "ipython2",
   "version": "2.7.6"
  }
 },
 "nbformat": 4,
 "nbformat_minor": 0
}
