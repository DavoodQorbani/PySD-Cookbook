{
 "cells": [
  {
   "cell_type": "markdown",
   "metadata": {},
   "source": [
    "# Translate Notebooks\n",
    "\n",
    "This preprocesses all the ipython notebooks over to rst files so that sphinx can import them."
   ]
  },
  {
   "cell_type": "code",
   "execution_count": 7,
   "metadata": {
    "collapsed": false
   },
   "outputs": [],
   "source": [
    "import glob\n",
    "import os.path"
   ]
  },
  {
   "cell_type": "code",
   "execution_count": 8,
   "metadata": {
    "collapsed": false
   },
   "outputs": [
    {
     "data": {
      "text/plain": [
       "['source/analyses/fitting/Fitting_with_Optimization.ipynb',\n",
       " 'source/analyses/fitting/Massively_Parallel_Fitting.ipynb',\n",
       " 'source/analyses/fitting/MCMC_for_fitting_models.ipynb',\n",
       " 'source/analyses/fitting/Step_at_a_time_optimization.ipynb',\n",
       " 'source/analyses/fitting/Teacup_Regression_Example.ipynb',\n",
       " 'source/analyses/geo/Exploring_models_across_geographic_scales.ipynb',\n",
       " 'source/analyses/getting_started/Hello_World_Teacup.ipynb',\n",
       " 'source/analyses/getting_started/Installation_and_Setup.ipynb',\n",
       " 'source/analyses/realtime/Nth_Order_Delay_Demo.ipynb',\n",
       " 'source/analyses/realtime/Twitter_Stream.ipynb',\n",
       " 'source/analyses/surrogating_functions/Surrogating_with_regression.ipynb',\n",
       " 'source/analyses/visualization/Basic_Visualization.ipynb',\n",
       " 'source/analyses/workflow/Unit Testing.ipynb',\n",
       " 'source/analyses/workflow/Writing to Database.ipynb',\n",
       " 'source/data/Baby_Names/Baby_Name_Data.ipynb',\n",
       " 'source/data/Census/US_Census_Data_Collection.ipynb',\n",
       " 'source/data/Defects_Synthetic/Manufacturing_Defects_Synthetic.ipynb',\n",
       " 'source/data/Ebola/Ebola_Data_Loader.ipynb']"
      ]
     },
     "execution_count": 8,
     "metadata": {},
     "output_type": "execute_result"
    }
   ],
   "source": [
    "notebooks = glob.glob('source/analyses/*/*.ipynb')\n",
    "notebooks += glob.glob('source/data/*/*.ipynb')\n",
    "notebooks"
   ]
  },
  {
   "cell_type": "code",
   "execution_count": 12,
   "metadata": {
    "collapsed": false
   },
   "outputs": [
    {
     "name": "stdout",
     "output_type": "stream",
     "text": [
      "[NbConvertApp] Converting notebook Fitting_with_Optimization.ipynb to rst\n",
      "[NbConvertApp] Support files will be in Fitting_with_Optimization_files/\n",
      "[NbConvertApp] Making directory Fitting_with_Optimization_files\n",
      "[NbConvertApp] Making directory Fitting_with_Optimization_files\n",
      "[NbConvertApp] Writing 6456 bytes to Fitting_with_Optimization.rst\n",
      "\n",
      "\n",
      "[NbConvertApp] Converting notebook Massively_Parallel_Fitting.ipynb to rst\n",
      "[NbConvertApp] Support files will be in Massively_Parallel_Fitting_files/\n",
      "[NbConvertApp] Making directory Massively_Parallel_Fitting_files\n",
      "[NbConvertApp] Writing 8458 bytes to Massively_Parallel_Fitting.rst\n",
      "\n",
      "\n",
      "[NbConvertApp] Converting notebook MCMC_for_fitting_models.ipynb to rst\n",
      "[NbConvertApp] Writing 316 bytes to MCMC_for_fitting_models.rst\n",
      "\n",
      "\n",
      "[NbConvertApp] Converting notebook Step_at_a_time_optimization.ipynb to rst\n",
      "[NbConvertApp] Support files will be in Step_at_a_time_optimization_files/\n",
      "[NbConvertApp] Making directory Step_at_a_time_optimization_files\n",
      "[NbConvertApp] Making directory Step_at_a_time_optimization_files\n",
      "[NbConvertApp] Writing 8235 bytes to Step_at_a_time_optimization.rst\n",
      "\n",
      "\n",
      "[NbConvertApp] Converting notebook Teacup_Regression_Example.ipynb to rst\n",
      "[NbConvertApp] Support files will be in Teacup_Regression_Example_files/\n",
      "[NbConvertApp] Making directory Teacup_Regression_Example_files\n",
      "[NbConvertApp] Making directory Teacup_Regression_Example_files\n",
      "[NbConvertApp] Making directory Teacup_Regression_Example_files\n",
      "[NbConvertApp] Making directory Teacup_Regression_Example_files\n",
      "[NbConvertApp] Making directory Teacup_Regression_Example_files\n",
      "[NbConvertApp] Making directory Teacup_Regression_Example_files\n",
      "[NbConvertApp] Making directory Teacup_Regression_Example_files\n",
      "[NbConvertApp] Making directory Teacup_Regression_Example_files\n",
      "[NbConvertApp] Making directory Teacup_Regression_Example_files\n",
      "[NbConvertApp] Writing 11209 bytes to Teacup_Regression_Example.rst\n",
      "\n",
      "\n",
      "[NbConvertApp] Converting notebook Exploring_models_across_geographic_scales.ipynb to rst\n",
      "[NbConvertApp] Support files will be in Exploring_models_across_geographic_scales_files/\n",
      "[NbConvertApp] Making directory Exploring_models_across_geographic_scales_files\n",
      "[NbConvertApp] Making directory Exploring_models_across_geographic_scales_files\n",
      "[NbConvertApp] Making directory Exploring_models_across_geographic_scales_files\n",
      "[NbConvertApp] Making directory Exploring_models_across_geographic_scales_files\n",
      "[NbConvertApp] Making directory Exploring_models_across_geographic_scales_files\n",
      "[NbConvertApp] Making directory Exploring_models_across_geographic_scales_files\n",
      "[NbConvertApp] Writing 38195 bytes to Exploring_models_across_geographic_scales.rst\n",
      "\n",
      "\n",
      "[NbConvertApp] Converting notebook Hello_World_Teacup.ipynb to rst\n",
      "[NbConvertApp] Support files will be in Hello_World_Teacup_files/\n",
      "[NbConvertApp] Making directory Hello_World_Teacup_files\n",
      "[NbConvertApp] Making directory Hello_World_Teacup_files\n",
      "[NbConvertApp] Making directory Hello_World_Teacup_files\n",
      "[NbConvertApp] Making directory Hello_World_Teacup_files\n",
      "[NbConvertApp] Making directory Hello_World_Teacup_files\n",
      "[NbConvertApp] Making directory Hello_World_Teacup_files\n",
      "[NbConvertApp] Making directory Hello_World_Teacup_files\n",
      "[NbConvertApp] Making directory Hello_World_Teacup_files\n",
      "[NbConvertApp] Writing 9198 bytes to Hello_World_Teacup.rst\n",
      "\n",
      "\n",
      "[NbConvertApp] Converting notebook Installation_and_Setup.ipynb to rst\n",
      "[NbConvertApp] Writing 2869 bytes to Installation_and_Setup.rst\n",
      "\n",
      "\n",
      "[NbConvertApp] Converting notebook Nth_Order_Delay_Demo.ipynb to rst\n",
      "[NbConvertApp] Writing 5750 bytes to Nth_Order_Delay_Demo.rst\n",
      "\n",
      "\n",
      "[NbConvertApp] Converting notebook Twitter_Stream.ipynb to rst\n",
      "[NbConvertApp] Writing 5266 bytes to Twitter_Stream.rst\n",
      "\n",
      "\n",
      "[NbConvertApp] Converting notebook Surrogating_with_regression.ipynb to rst\n",
      "[NbConvertApp] Support files will be in Surrogating_with_regression_files/\n",
      "[NbConvertApp] Making directory Surrogating_with_regression_files\n",
      "[NbConvertApp] Making directory Surrogating_with_regression_files\n",
      "[NbConvertApp] Writing 3618 bytes to Surrogating_with_regression.rst\n",
      "\n",
      "\n",
      "[NbConvertApp] Converting notebook Basic_Visualization.ipynb to rst\n",
      "[NbConvertApp] Support files will be in Basic_Visualization_files/\n",
      "[NbConvertApp] Making directory Basic_Visualization_files\n",
      "[NbConvertApp] Making directory Basic_Visualization_files\n",
      "[NbConvertApp] Making directory Basic_Visualization_files\n",
      "[NbConvertApp] Making directory Basic_Visualization_files\n",
      "[NbConvertApp] Writing 40314 bytes to Basic_Visualization.rst\n",
      "\n",
      "\n",
      "[NbConvertApp] Converting notebook Unit Testing.ipynb to rst\n",
      "[NbConvertApp] Writing 800 bytes to Unit Testing.rst\n",
      "\n",
      "\n",
      "[NbConvertApp] Converting notebook Writing to Database.ipynb to rst\n",
      "[NbConvertApp] Writing 3438 bytes to Writing to Database.rst\n",
      "\n",
      "\n",
      "[NbConvertApp] Converting notebook Baby_Name_Data.ipynb to rst\n",
      "[NbConvertApp] Writing 943 bytes to Baby_Name_Data.rst\n",
      "\n",
      "\n",
      "[NbConvertApp] Converting notebook US_Census_Data_Collection.ipynb to rst\n",
      "[NbConvertApp] Writing 54172 bytes to US_Census_Data_Collection.rst\n",
      "\n",
      "\n",
      "[NbConvertApp] Converting notebook Manufacturing_Defects_Synthetic.ipynb to rst\n",
      "[NbConvertApp] Writing 1993 bytes to Manufacturing_Defects_Synthetic.rst\n",
      "\n",
      "\n",
      "[NbConvertApp] Converting notebook Ebola_Data_Loader.ipynb to rst\n",
      "[NbConvertApp] Support files will be in Ebola_Data_Loader_files/\n",
      "[NbConvertApp] Making directory Ebola_Data_Loader_files\n",
      "[NbConvertApp] Writing 7266 bytes to Ebola_Data_Loader.rst\n",
      "\n",
      "\n"
     ]
    }
   ],
   "source": [
    "for infile in notebooks:\n",
    "    infile = infile.replace(' ','\\ ')\n",
    "    \n",
    "    #convert notebook in its local directory\n",
    "    path, nbfile = os.path.split(infile)    \n",
    "    ! cd $path; ipython nbconvert --to rst $nbfile\n",
    "\n",
    "    #move the .rst file\n",
    "    no_ext = os.path.splitext(nbfile)[0]\n",
    "    movefiles = path+'/'+no_ext+'.rst'\n",
    "    dest = 'docs/'+'/'.join(path.split('/')[1:]) #pretty dependent on directory structure\n",
    "    ! mv $movefiles $dest\n",
    "\n",
    "    #move supporting files, if there are any\n",
    "    movedir = path+'/'+no_ext+'_files'\n",
    "    if os.path.exists(movedir):\n",
    "        destdir = 'docs/'+'/'.join(path.split('/')[1:])+'/'+no_ext+'_files'        \n",
    "        if os.path.exists(destdir): #check to see if the 'files' directory has already been created\n",
    "            !rm -r $destdir #if so, remove it, so we can have a clean slate...\n",
    "        !mv $movedir $dest\n",
    "        \n",
    "    print '\\n'"
   ]
  },
  {
   "cell_type": "code",
   "execution_count": null,
   "metadata": {
    "collapsed": true
   },
   "outputs": [],
   "source": []
  }
 ],
 "metadata": {
  "kernelspec": {
   "display_name": "Python 2",
   "language": "python",
   "name": "python2"
  },
  "language_info": {
   "codemirror_mode": {
    "name": "ipython",
    "version": 2
   },
   "file_extension": ".py",
   "mimetype": "text/x-python",
   "name": "python",
   "nbconvert_exporter": "python",
   "pygments_lexer": "ipython2",
   "version": "2.7.6"
  }
 },
 "nbformat": 4,
 "nbformat_minor": 0
}
