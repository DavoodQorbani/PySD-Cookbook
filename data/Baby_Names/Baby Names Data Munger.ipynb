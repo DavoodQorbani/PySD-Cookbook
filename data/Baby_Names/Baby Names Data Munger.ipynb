{
 "metadata": {
  "name": "",
  "signature": "sha256:367516e7a0135f3d40a70d7a70ec7ab3f0a7a4e4f0aad359cc28e7f61f42fd71"
 },
 "nbformat": 3,
 "nbformat_minor": 0,
 "worksheets": [
  {
   "cells": [
    {
     "cell_type": "markdown",
     "metadata": {},
     "source": [
      "This notebook formats data from the social security administration [baby names database](http://www.ssa.gov/oact/babynames/limits.html) into a format that is easy for the cookbook to deal with.\n",
      "It expects the zip file to be unpacked into a subfolder called 'names'. "
     ]
    },
    {
     "cell_type": "code",
     "collapsed": false,
     "input": [
      "import pandas as pd\n",
      "import glob"
     ],
     "language": "python",
     "metadata": {},
     "outputs": [],
     "prompt_number": 1
    },
    {
     "cell_type": "code",
     "collapsed": false,
     "input": [
      "filenames = glob.glob('names/yob*')"
     ],
     "language": "python",
     "metadata": {},
     "outputs": [],
     "prompt_number": 3
    },
    {
     "cell_type": "code",
     "collapsed": false,
     "input": [
      "females = pd.DataFrame()\n",
      "males = pd.DataFrame()\n",
      "\n",
      "for filename in filenames:\n",
      "    year = filename[9:13]\n",
      "    data = pd.read_csv(filename, header=None, names=['Name','Gender',year], index_col='Name')\n",
      "    females = females.join(data[data['Gender']=='F'].drop('Gender', axis=1), how='outer')\n",
      "    males = males.join(data[data['Gender']=='M'].drop('Gender', axis=1), how='outer')\n",
      "\n",
      "females.to_csv('female_names_timeseries.csv')\n",
      "males.to_csv('male_names_timeseries.csv')"
     ],
     "language": "python",
     "metadata": {},
     "outputs": [],
     "prompt_number": 26
    }
   ],
   "metadata": {}
  }
 ]
}