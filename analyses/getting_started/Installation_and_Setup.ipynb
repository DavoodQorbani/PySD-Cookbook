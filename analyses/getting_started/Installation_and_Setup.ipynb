{
 "cells": [
  {
   "cell_type": "markdown",
   "metadata": {},
   "source": [
    "#Installation and Setup\n",
    "\n",
    "##Installing Python\n",
    "\n",
    "Some computers come with python preinstalled. To check if you have python already, at a command prompt, type:\n",
    "\n",
    "    python -V\n",
    "    \n",
    "If python is installed, you should see some information about the version you are running. For example:\n",
    "    \n",
    "    Python 2.7.6\n",
    "    \n",
    "If you get an error, you probably need to install python from scratch. To do so, visit https://www.python.org/downloads/ and download the latest version beginning with `2.`. Some of the python utilities we will be using are not yet available in Python 3."
   ]
  },
  {
   "cell_type": "markdown",
   "metadata": {},
   "source": [
    "## Installing pip\n",
    "\n",
    "Pip is the primary python package distribution utility. Depending on how you set up python, you may have Pip already installed. To test this, at your command prompt, type:\n",
    "\n",
    "    pip list\n",
    "\n",
    "If pip is installed, you will see a list of installed packages managed by pip.\n",
    "\n",
    "If you get an error, you will need to install pip from scratch. To do this, follow the instructions here:\n",
    "https://pip.pypa.io/en/latest/installing.html\n",
    "\n",
    "\n"
   ]
  },
  {
   "cell_type": "markdown",
   "metadata": {},
   "source": [
    "## Installing PySD\n",
    "\n",
    "With pip installed, at the command prompt you can type:\n",
    "\n",
    "    pip install pysd\n",
    "    \n",
    "this should install PySD and all of its dependencies.\n",
    "In some cases you may need to prepend the command with 'sudo' to give it administrative priveledges:\n",
    "\n",
    "    sudo pip install pysd\n",
    "    \n",
    "You'll be prompted for your administrator password."
   ]
  },
  {
   "cell_type": "markdown",
   "metadata": {},
   "source": [
    "### Manually installing PySD's dependencies\n",
    "\n",
    "On the off chance that pip fails to install the dependencies, you can do the task yourself.\n",
    "\n",
    "There are a few packages which form the core of the python scientific computing stack. They are:\n",
    "\n",
    "1. numpy - a library for matrix-type numerical computation\n",
    "2. scipy - a library which extends numpy with a bunch of useful features, such as stats, etc.\n",
    "3. matplotlib - a basic plotting library\n",
    "4. pandas - a basic data manipulation library\n",
    "5. ipython - an environment for interacting with python and writing clever text/documentation documents, such as this one.\n",
    "\n",
    "To install these packages, use the syntax:\n",
    "\n",
    "    pip install numpy\n",
    "    \n",
    "Run the command once for each package, replacing `numpy` with `scipy` etc.\n",
    "\n",
    "PySD also requires one additional package beyond the basic data science stack, called `parsimonious`. Use pip to install it:\n",
    "\n",
    "    pip install parsimonious\n",
    "    "
   ]
  },
  {
   "cell_type": "markdown",
   "metadata": {},
   "source": [
    "## Launch iPython Notebook, and get started\n",
    "\n",
    "Now at your command line type:\n",
    "\n",
    "    ipython notebook\n",
    "    \n",
    "Your browser should start, and give you a document much like this one that you can play with."
   ]
  },
  {
   "cell_type": "markdown",
   "metadata": {},
   "source": [
    "## Upgrading PySD\n",
    "\n",
    "PySD is a work in progress, and from time to time, we'll ipgrade its features. To upgrade to the latest version of PySD (or any of the other packages, for that matter) use the syntax:\n",
    "\n",
    "    pip install pysd --upgrade"
   ]
  }
 ],
 "metadata": {
  "kernelspec": {
   "display_name": "Python 2",
   "language": "python",
   "name": "python2"
  },
  "language_info": {
   "codemirror_mode": {
    "name": "ipython",
    "version": 2
   },
   "file_extension": ".py",
   "mimetype": "text/x-python",
   "name": "python",
   "nbconvert_exporter": "python",
   "pygments_lexer": "ipython2",
   "version": "2.7.6"
  }
 },
 "nbformat": 4,
 "nbformat_minor": 0
}
