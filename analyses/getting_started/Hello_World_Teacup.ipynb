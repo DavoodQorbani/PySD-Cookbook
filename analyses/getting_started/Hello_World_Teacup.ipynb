{
 "cells": [
  {
   "cell_type": "markdown",
   "metadata": {},
   "source": [
    "#Hello World: The Teacup Model\n",
    "\n",
    "This notebook demonstrates the basic capability of PySD using a model of a cup of tea cooling to room temperature.  \n",
    "\n",
    "<img src=\"https://raw.githubusercontent.com/JamesPHoughton/pysd/master/example_models/Teacup/Teacup.png\" alt=\"Image of Vensim Teacup Model\" style=\"width: 300px;\"/>\n",
    "\n",
    "Our model simulates [Newton's Law of Cooling](http://www.ugrad.math.ubc.ca/coursedoc/math100/notes/diffeqs/cool.html), which follows the functional form:\n",
    "$$\\frac{dT}{dt} = k(T - T_{ambient})$$\n",
    "\n",
    "This model has all of the canonical components of a system dynamics model: a stock, a flow, a feedback loop, a control parameter, and exhibits dynamic behavior. The model equations are:\n",
    "\n",
    "    Characteristic Time=\n",
    "            10\n",
    "    Units: Minutes\n",
    "\n",
    "    Heat Loss to Room=\n",
    "        (Teacup Temperature - Room Temperature) / Characteristic Time\n",
    "    Units: Degrees/Minute\n",
    "    This is the rate at which heat flows from the cup into the room. \n",
    "\n",
    "    Room Temperature=\n",
    "        70\n",
    "    Units: Degrees\n",
    "\n",
    "    Teacup Temperature= INTEG (\n",
    "        -Heat Loss to Room,\n",
    "            180)\n",
    "    Units: Degrees\n",
    "    \n",
    "    \n",
    "### Load the model\n",
    "We begin by importing the PySD module using the python standard import commands. We then use PySD's Vensim model translator to import the model from the Vensim model file and create a model object. We see that PySD translates the vensim component names into acceptable python identifiers."
   ]
  },
  {
   "cell_type": "code",
   "execution_count": 1,
   "metadata": {
    "collapsed": false
   },
   "outputs": [
    {
     "name": "stdout",
     "output_type": "stream",
     "text": [
      "Populating the interactive namespace from numpy and matplotlib\n",
      "characteristic_time = 10 \n",
      "Type: Flow or Auxiliary \n",
      " \n",
      "\n",
      "This function returns an aggregation of all of the docstrings of all of the\n",
      "elements in the model.\n",
      "\n",
      "final_time = 30 \n",
      "Type: Flow or Auxiliary \n",
      " \n",
      "\n",
      "heat_loss_to_room = (self.teacup_temperature()- self.room_temperature()) / self.characteristic_time() \n",
      "Type: Flow or Auxiliary \n",
      " \n",
      "\n",
      "initial_time = 0 \n",
      "Type: Flow or Auxiliary \n",
      " \n",
      "\n",
      "room_temperature = 70 \n",
      "Type: Flow or Auxiliary \n",
      " \n",
      "\n",
      "Stock: teacup_temperature =                      \n",
      "         -self.heat_loss_to_room()                          \n",
      "                                     \n",
      "Initial Value: 180                    \n",
      "Do not overwrite this function       \n",
      "\n",
      "This helper function allows the model components to\n",
      "access the time component directly.\n",
      "\n",
      "time_step = 0.125 \n",
      "Type: Flow or Auxiliary \n",
      " \n",
      "\n",
      "\n"
     ]
    }
   ],
   "source": [
    "%pylab inline\n",
    "import pysd\n",
    "model = pysd.read_vensim('models/Teacup/Teacup.mdl')\n",
    "print model.components.doc()"
   ]
  },
  {
   "cell_type": "markdown",
   "metadata": {},
   "source": [
    "### Run with default parameters\n",
    "To understand the general behavior of the model, we can run a simulation using the default parameters specified by the Vensim model file. The default behavior of the run function is to return the value of the stocks as a [pandas](http://pandas.pydata.org/) dataframe:"
   ]
  },
  {
   "cell_type": "code",
   "execution_count": 2,
   "metadata": {
    "collapsed": false
   },
   "outputs": [
    {
     "data": {
      "text/html": [
       "<div>\n",
       "<table border=\"1\" class=\"dataframe\">\n",
       "  <thead>\n",
       "    <tr style=\"text-align: right;\">\n",
       "      <th></th>\n",
       "      <th>teacup_temperature</th>\n",
       "    </tr>\n",
       "  </thead>\n",
       "  <tbody>\n",
       "    <tr>\n",
       "      <th>0.000</th>\n",
       "      <td>180.000000</td>\n",
       "    </tr>\n",
       "    <tr>\n",
       "      <th>0.125</th>\n",
       "      <td>178.633556</td>\n",
       "    </tr>\n",
       "    <tr>\n",
       "      <th>0.250</th>\n",
       "      <td>177.284092</td>\n",
       "    </tr>\n",
       "    <tr>\n",
       "      <th>0.375</th>\n",
       "      <td>175.951388</td>\n",
       "    </tr>\n",
       "    <tr>\n",
       "      <th>0.500</th>\n",
       "      <td>174.635239</td>\n",
       "    </tr>\n",
       "  </tbody>\n",
       "</table>\n",
       "</div>"
      ],
      "text/plain": [
       "       teacup_temperature\n",
       "0.000          180.000000\n",
       "0.125          178.633556\n",
       "0.250          177.284092\n",
       "0.375          175.951388\n",
       "0.500          174.635239"
      ]
     },
     "execution_count": 2,
     "metadata": {},
     "output_type": "execute_result"
    }
   ],
   "source": [
    "stocks = model.run()\n",
    "stocks.head(5)"
   ]
  },
  {
   "cell_type": "markdown",
   "metadata": {},
   "source": [
    "Pandas has some simple plotting utility built in which allows us to easily visualize the results."
   ]
  },
  {
   "cell_type": "code",
   "execution_count": 3,
   "metadata": {
    "collapsed": false
   },
   "outputs": [
    {
     "data": {
      "text/plain": [
       "<matplotlib.figure.Figure at 0x10d867910>"
      ]
     },
     "metadata": {},
     "output_type": "display_data"
    },
    {
     "data": {
      "image/png": "[encoded data removed]",
      "text/plain": [
       "<matplotlib.figure.Figure at 0x1128ed2d0>"
      ]
     },
     "metadata": {},
     "output_type": "display_data"
    }
   ],
   "source": [
    "plt.figure(figsize(6,2))\n",
    "stocks.plot()\n",
    "plt.ylabel('Degrees F')\n",
    "plt.xlabel('Minutes');"
   ]
  },
  {
   "cell_type": "markdown",
   "metadata": {},
   "source": [
    "### Return additional model components\n",
    "\n",
    "If we wish to see the values of model components other than the stocks, we can pass a list of component names with the keyword argument `return_columns`. This will change the columns of the returned dataframe such that they contain samples of the requested model components: "
   ]
  },
  {
   "cell_type": "code",
   "execution_count": 4,
   "metadata": {
    "collapsed": false
   },
   "outputs": [
    {
     "data": {
      "text/html": [
       "<div>\n",
       "<table border=\"1\" class=\"dataframe\">\n",
       "  <thead>\n",
       "    <tr style=\"text-align: right;\">\n",
       "      <th></th>\n",
       "      <th>room_temperature</th>\n",
       "      <th>teacup_temperature</th>\n",
       "    </tr>\n",
       "  </thead>\n",
       "  <tbody>\n",
       "    <tr>\n",
       "      <th>0.000</th>\n",
       "      <td>70</td>\n",
       "      <td>180.000000</td>\n",
       "    </tr>\n",
       "    <tr>\n",
       "      <th>0.125</th>\n",
       "      <td>70</td>\n",
       "      <td>178.633556</td>\n",
       "    </tr>\n",
       "    <tr>\n",
       "      <th>0.250</th>\n",
       "      <td>70</td>\n",
       "      <td>177.284092</td>\n",
       "    </tr>\n",
       "    <tr>\n",
       "      <th>0.375</th>\n",
       "      <td>70</td>\n",
       "      <td>175.951388</td>\n",
       "    </tr>\n",
       "    <tr>\n",
       "      <th>0.500</th>\n",
       "      <td>70</td>\n",
       "      <td>174.635239</td>\n",
       "    </tr>\n",
       "  </tbody>\n",
       "</table>\n",
       "</div>"
      ],
      "text/plain": [
       "       room_temperature  teacup_temperature\n",
       "0.000                70          180.000000\n",
       "0.125                70          178.633556\n",
       "0.250                70          177.284092\n",
       "0.375                70          175.951388\n",
       "0.500                70          174.635239"
      ]
     },
     "execution_count": 4,
     "metadata": {},
     "output_type": "execute_result"
    },
    {
     "data": {
      "image/png": "[encoded data removed]",
      "text/plain": [
       "<matplotlib.figure.Figure at 0x1129c1ad0>"
      ]
     },
     "metadata": {},
     "output_type": "display_data"
    }
   ],
   "source": [
    "values = model.run(return_columns=['teacup_temperature', 'room_temperature'])\n",
    "values.plot()\n",
    "plt.ylabel('Degrees F')\n",
    "plt.xlabel('Minutes')\n",
    "values.head()"
   ]
  },
  {
   "cell_type": "markdown",
   "metadata": {},
   "source": [
    "### Return values at a specific time\n",
    "\n",
    "Sometimes we want to specify the timestamps that the run function should return values. For instance, if we are comparing the result of our model with data that arrives at irregular time intervals. We can do so using the `return_timestamps` keyword argument. This argument expects a list of timestamps, and will return values at those timestamps."
   ]
  },
  {
   "cell_type": "code",
   "execution_count": 5,
   "metadata": {
    "collapsed": false
   },
   "outputs": [
    {
     "data": {
      "text/html": [
       "<div>\n",
       "<table border=\"1\" class=\"dataframe\">\n",
       "  <thead>\n",
       "    <tr style=\"text-align: right;\">\n",
       "      <th></th>\n",
       "      <th>teacup_temperature</th>\n",
       "    </tr>\n",
       "  </thead>\n",
       "  <tbody>\n",
       "    <tr>\n",
       "      <th>0.0</th>\n",
       "      <td>180.000000</td>\n",
       "    </tr>\n",
       "    <tr>\n",
       "      <th>1.0</th>\n",
       "      <td>169.532119</td>\n",
       "    </tr>\n",
       "    <tr>\n",
       "      <th>3.0</th>\n",
       "      <td>151.490002</td>\n",
       "    </tr>\n",
       "    <tr>\n",
       "      <th>7.0</th>\n",
       "      <td>124.624385</td>\n",
       "    </tr>\n",
       "    <tr>\n",
       "      <th>9.5</th>\n",
       "      <td>112.541515</td>\n",
       "    </tr>\n",
       "  </tbody>\n",
       "</table>\n",
       "</div>"
      ],
      "text/plain": [
       "     teacup_temperature\n",
       "0.0          180.000000\n",
       "1.0          169.532119\n",
       "3.0          151.490002\n",
       "7.0          124.624385\n",
       "9.5          112.541515"
      ]
     },
     "execution_count": 5,
     "metadata": {},
     "output_type": "execute_result"
    },
    {
     "data": {
      "image/png": "[encoded data removed]",
      "text/plain": [
       "<matplotlib.figure.Figure at 0x1128f5dd0>"
      ]
     },
     "metadata": {},
     "output_type": "display_data"
    }
   ],
   "source": [
    "stocks = model.run(return_timestamps=[0,1,3,7,9.5, 13.178, 21, 25, 30])\n",
    "stocks.plot(linewidth=0, marker='o')\n",
    "plt.ylabel('Degrees F')\n",
    "plt.xlabel('Minutes')\n",
    "stocks.head()"
   ]
  },
  {
   "cell_type": "markdown",
   "metadata": {},
   "source": [
    "### Modify parameter values\n",
    "We can specify changes to the parameters of the model in the call to the run function. Here we set the room temperature to the constant value of 20 degrees before running the simulation."
   ]
  },
  {
   "cell_type": "code",
   "execution_count": 6,
   "metadata": {
    "collapsed": false
   },
   "outputs": [
    {
     "data": {
      "image/png": "[encoded data removed]",
      "text/plain": [
       "<matplotlib.figure.Figure at 0x1129d3650>"
      ]
     },
     "metadata": {},
     "output_type": "display_data"
    }
   ],
   "source": [
    "values = model.run(params={'room_temperature':20})\n",
    "values.plot()\n",
    "plt.ylabel('Degrees F')\n",
    "plt.xlabel('Minutes');"
   ]
  },
  {
   "cell_type": "markdown",
   "metadata": {},
   "source": [
    "We can also specify that a parameter be set with a time-varying input. In this case, we raise the room temperature from 20 to 80 degrees over the course of the 30 minutes. We can see that once the room temperature rises above that of the tea, the tea begins to warm up again."
   ]
  },
  {
   "cell_type": "code",
   "execution_count": 7,
   "metadata": {
    "collapsed": false
   },
   "outputs": [
    {
     "data": {
      "image/png": "[encoded data removed]",
      "text/plain": [
       "<matplotlib.figure.Figure at 0x112a36fd0>"
      ]
     },
     "metadata": {},
     "output_type": "display_data"
    }
   ],
   "source": [
    "import pandas as pd\n",
    "temp_timeseries = pd.Series(index=range(30), data=range(20,80,2))\n",
    "values = model.run(params={'room_temperature':temp_timeseries},return_columns=['teacup_temperature', 'room_temperature'])\n",
    "values.plot()\n",
    "plt.ylabel('Degrees F')\n",
    "plt.xlabel('Minutes');"
   ]
  },
  {
   "cell_type": "markdown",
   "metadata": {},
   "source": [
    "### Specifying model initial conditions\n",
    "\n",
    "In addition to parameters, we can set the initial conditions for the model, by passing a tuple to the argument `initial_condition`. In this case, the first element of the tuple is the time at which the model should begin its execution, and the second element of the tuple is a dictionary containing the values of the stocks at that particular time. "
   ]
  },
  {
   "cell_type": "code",
   "execution_count": 8,
   "metadata": {
    "collapsed": false
   },
   "outputs": [
    {
     "data": {
      "image/png": "[encoded data removed]",
      "text/plain": [
       "<matplotlib.figure.Figure at 0x112a697d0>"
      ]
     },
     "metadata": {},
     "output_type": "display_data"
    }
   ],
   "source": [
    "stocks = model.run(params={'room_temperature':75},\n",
    "                   initial_condition=(0, {'teacup_temperature':33}))\n",
    "stocks.plot()\n",
    "plt.ylabel('Degrees F')\n",
    "plt.xlabel('Minutes');"
   ]
  },
  {
   "cell_type": "markdown",
   "metadata": {},
   "source": [
    "Once a model has been run, we can choose to run it forwards again from its current state. To do this we specify a new set of timestamps over which we would like the model to run, and pass the `intitial_condition` argument the string `\"current\"`."
   ]
  },
  {
   "cell_type": "code",
   "execution_count": 9,
   "metadata": {
    "collapsed": false
   },
   "outputs": [
    {
     "data": {
      "image/png": "[encoded data removed]",
      "text/plain": [
       "<matplotlib.figure.Figure at 0x112c0b650>"
      ]
     },
     "metadata": {},
     "output_type": "display_data"
    }
   ],
   "source": [
    "values = model.run(initial_condition='current', return_timestamps=range(31,45))\n",
    "values.plot()\n",
    "plt.ylabel('Degrees F')\n",
    "plt.xlabel('Minutes');"
   ]
  },
  {
   "cell_type": "markdown",
   "metadata": {},
   "source": [
    "### Collecting Results\n",
    "To collect all output from a series of run commands into a record, set the `collect` flag to `True`.  We can then access an aggregation of all runs via the `.get_record()` method.\n",
    "\n",
    "This can be helpful when running the model forwards for a period of time, then returning control to the user, who will specify changes to the model, and continue the integration forwards. In this case, we change the room temperature at 30 minutes, perhaps by taking the tea out into the cold."
   ]
  },
  {
   "cell_type": "code",
   "execution_count": 10,
   "metadata": {
    "collapsed": false
   },
   "outputs": [
    {
     "data": {
      "image/png": "[encoded data removed]",
      "text/plain": [
       "<matplotlib.figure.Figure at 0x112a1b810>"
      ]
     },
     "metadata": {},
     "output_type": "display_data"
    }
   ],
   "source": [
    "stocks0 = model.run(params={'room_temperature':75},\n",
    "                    return_timestamps=range(0,30), collect=True)\n",
    "stocks1 = model.run(params={'room_temperature':25}, initial_condition='current',\n",
    "                    return_timestamps=range(30,60), collect=True)\n",
    "stocks = model.get_record()\n",
    "\n",
    "stocks.plot()\n",
    "plt.ylabel('Degrees F')\n",
    "plt.xlabel('Minutes');"
   ]
  },
  {
   "cell_type": "markdown",
   "metadata": {},
   "source": [
    "To reset the record, use the method `.clear_record()` :"
   ]
  },
  {
   "cell_type": "code",
   "execution_count": 11,
   "metadata": {
    "collapsed": false
   },
   "outputs": [],
   "source": [
    "model.clear_record()"
   ]
  }
 ],
 "metadata": {
  "kernelspec": {
   "display_name": "Python 2",
   "language": "python",
   "name": "python2"
  },
  "language_info": {
   "codemirror_mode": {
    "name": "ipython",
    "version": 2
   },
   "file_extension": ".py",
   "mimetype": "text/x-python",
   "name": "python",
   "nbconvert_exporter": "python",
   "pygments_lexer": "ipython2",
   "version": "2.7.6"
  }
 },
 "nbformat": 4,
 "nbformat_minor": 0
}
