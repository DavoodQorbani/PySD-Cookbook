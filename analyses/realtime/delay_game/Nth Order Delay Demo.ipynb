{
 "metadata": {
  "name": "",
  "signature": "sha256:6634c4e79b7967e695dcac40cb3b1efb1d4b1aefea80904ff3ebc3b0856ca634"
 },
 "nbformat": 3,
 "nbformat_minor": 0,
 "worksheets": [
  {
   "cells": [
    {
     "cell_type": "markdown",
     "metadata": {},
     "source": [
      "#Nth Order Delay Demo\n",
      "[James Houghton](mailto:houghton@mit.edu)\n",
      "\n",
      "\n",
      "This is a fun demonstration designed to build intuition around the idea that balancing feedback loops with delays lead to oscillation. It uses a vensim model as the 'system' but provides a way for a user to interact with the simulation in realtime - essentially acting as the controller - a balancing feedback loop around the model output.\n",
      "\n",
      "\n",
      "#### The Game\n",
      "The student is asked to use the 'up' and 'down' arrow keys to bring a blue line (the system output) to the value of the dashed red line (the target). However, the inputs from the keyboard go through a delay process (here using either the 'first order delay' model, or the 'third order delay' model). \n",
      "\n",
      "When we run this cell, the student will have 60 seconds to bring the blue line to the level of the red line. "
     ]
    },
    {
     "cell_type": "code",
     "collapsed": false,
     "input": [
      "%pylab\n",
      "import pysd\n",
      "from matplotlib import animation\n",
      "import numpy as np\n",
      "\n",
      "#import the model (need to import each time to reinitialize) \n",
      "#choose one of the following lines:\n",
      "#model = pysd.read_vensim('First_Order_Delay.mdl')\n",
      "model = pysd.read_vensim('Third_Order_Delay.mdl')\n",
      "\n",
      "#set the delay time in the model\n",
      "model.set_components({'delay':10})\n",
      "\n",
      "model.components.delay()"
     ],
     "language": "python",
     "metadata": {},
     "outputs": [
      {
       "output_type": "stream",
       "stream": "stdout",
       "text": [
        "Using matplotlib backend: MacOSX\n",
        "Populating the interactive namespace from numpy and matplotlib\n"
       ]
      },
      {
       "metadata": {},
       "output_type": "pyout",
       "prompt_number": 1,
       "text": [
        "10"
       ]
      }
     ],
     "prompt_number": 1
    },
    {
     "cell_type": "code",
     "collapsed": false,
     "input": [
      "%pylab\n",
      "import pysd\n",
      "from matplotlib import animation\n",
      "\n",
      "#import the model (need to import each time to reinitialize) \n",
      "model = pysd.read_vensim('Third_Order_Delay.mdl')\n",
      "\n",
      "#set the delay time in the model\n",
      "model.set_components({'delay':5})\n",
      "\n",
      "#set the animation parameters\n",
      "fps=4\n",
      "seconds=60\n",
      "dt=1./fps\n",
      "\n",
      "#set up the figure axes\n",
      "fig, ax = plt.subplots()\n",
      "ax.set_xlim(0,1)\n",
      "ax.set_ylim(-10, 20)\n",
      "ax.set_xticks([])\n",
      "title = ax.set_title('Time %.02f'%0)\n",
      "\n",
      "#draw the target line\n",
      "ax.plot([0,1], [10,10], 'r--')\n",
      "\n",
      "#draw the moving line, just for now. We'll change it later\n",
      "line, = ax.plot([0,1], [0,0], lw=2)\n",
      "\n",
      "#set up variables for simulation\n",
      "input_val = 1\n",
      "model.components.input = lambda: input_val\n",
      "\n",
      "#capture keyboard input\n",
      "def on_key_press(event):\n",
      "    global input_val\n",
      "    if event.key == 'up':\n",
      "        input_val += .25\n",
      "    elif event.key == 'down':\n",
      "        input_val -= .25\n",
      "    sys.stdout.flush()\n",
      "    \n",
      "fig.canvas.mpl_connect('key_press_event', on_key_press)\n",
      "\n",
      "#make the animation\n",
      "def animate(t):\n",
      "    #run the simulation forward\n",
      "    time = model.components.t+dt\n",
      "    stocks = model.run(return_columns=['input', 'delay_buffer_1', 'delay_buffer_2', 'delay_buffer_3', 'output'],\n",
      "                       return_timestamps=[time], \n",
      "                       initial_condition='current', collect=True)\n",
      " \n",
      "    #make changes to the display\n",
      "    level = stocks['output']\n",
      "    line.set_data([0,1], [level, level])\n",
      "    title.set_text('Time %.02f'%time)\n",
      "    \n",
      "# call the animator.  \n",
      "anim = animation.FuncAnimation(fig, animate, repeat=False,\n",
      "                               frames=seconds*fps, interval=1000./fps, \n",
      "                               blit=False)"
     ],
     "language": "python",
     "metadata": {},
     "outputs": [
      {
       "output_type": "stream",
       "stream": "stdout",
       "text": [
        "Using matplotlib backend: MacOSX\n",
        "Populating the interactive namespace from numpy and matplotlib\n"
       ]
      }
     ],
     "prompt_number": 9
    },
    {
     "cell_type": "code",
     "collapsed": false,
     "input": [
      "record = model.get_record()\n",
      "record.head()"
     ],
     "language": "python",
     "metadata": {},
     "outputs": [
      {
       "html": [
        "<div style=\"max-height:1000px;max-width:1500px;overflow:auto;\">\n",
        "<table border=\"1\" class=\"dataframe\">\n",
        "  <thead>\n",
        "    <tr style=\"text-align: right;\">\n",
        "      <th></th>\n",
        "      <th>input</th>\n",
        "      <th>delay_buffer_1</th>\n",
        "      <th>delay_buffer_2</th>\n",
        "      <th>delay_buffer_3</th>\n",
        "      <th>output</th>\n",
        "    </tr>\n",
        "  </thead>\n",
        "  <tbody>\n",
        "    <tr>\n",
        "      <th>0.25</th>\n",
        "      <td> 1</td>\n",
        "      <td> 0.221199</td>\n",
        "      <td> 0.026499</td>\n",
        "      <td> 0.002161</td>\n",
        "      <td> 0.002161</td>\n",
        "    </tr>\n",
        "    <tr>\n",
        "      <th>0.50</th>\n",
        "      <td> 1</td>\n",
        "      <td> 0.393469</td>\n",
        "      <td> 0.090204</td>\n",
        "      <td> 0.014388</td>\n",
        "      <td> 0.014388</td>\n",
        "    </tr>\n",
        "    <tr>\n",
        "      <th>0.75</th>\n",
        "      <td> 1</td>\n",
        "      <td> 0.527633</td>\n",
        "      <td> 0.173359</td>\n",
        "      <td> 0.040505</td>\n",
        "      <td> 0.040505</td>\n",
        "    </tr>\n",
        "    <tr>\n",
        "      <th>1.00</th>\n",
        "      <td> 1</td>\n",
        "      <td> 0.632121</td>\n",
        "      <td> 0.264241</td>\n",
        "      <td> 0.080301</td>\n",
        "      <td> 0.080301</td>\n",
        "    </tr>\n",
        "    <tr>\n",
        "      <th>1.25</th>\n",
        "      <td> 1</td>\n",
        "      <td> 0.713495</td>\n",
        "      <td> 0.355364</td>\n",
        "      <td> 0.131532</td>\n",
        "      <td> 0.131532</td>\n",
        "    </tr>\n",
        "  </tbody>\n",
        "</table>\n",
        "</div>"
       ],
       "metadata": {},
       "output_type": "pyout",
       "prompt_number": 5,
       "text": [
        "      input  delay_buffer_1  delay_buffer_2  delay_buffer_3    output\n",
        "0.25      1        0.221199        0.026499        0.002161  0.002161\n",
        "0.50      1        0.393469        0.090204        0.014388  0.014388\n",
        "0.75      1        0.527633        0.173359        0.040505  0.040505\n",
        "1.00      1        0.632121        0.264241        0.080301  0.080301\n",
        "1.25      1        0.713495        0.355364        0.131532  0.131532"
       ]
      }
     ],
     "prompt_number": 5
    },
    {
     "cell_type": "code",
     "collapsed": false,
     "input": [
      "record.plot()"
     ],
     "language": "python",
     "metadata": {},
     "outputs": [
      {
       "metadata": {},
       "output_type": "pyout",
       "prompt_number": 6,
       "text": [
        "<matplotlib.axes._subplots.AxesSubplot at 0x10f08a250>"
       ]
      }
     ],
     "prompt_number": 6
    },
    {
     "cell_type": "markdown",
     "metadata": {},
     "source": [
      "### Display student input vs model output\n",
      "\n",
      "To show how we did, we can plot the input and output over time. Here we start to see the oscillatory behavior (for higher order and longer delays)"
     ]
    },
    {
     "cell_type": "code",
     "collapsed": false,
     "input": [
      "plt.plot(x,input_collector, label='Your Input')\n",
      "plt.plot(x,y, label='Model Response')\n",
      "plt.legend(loc='lower right')\n",
      "plt.xlabel('Time [Seconds]')\n",
      "plt.ylabel('Value')"
     ],
     "language": "python",
     "metadata": {},
     "outputs": [
      {
       "metadata": {},
       "output_type": "pyout",
       "prompt_number": 2,
       "text": [
        "<matplotlib.text.Text at 0x108ab4bd0>"
       ]
      }
     ],
     "prompt_number": 2
    },
    {
     "cell_type": "markdown",
     "metadata": {},
     "source": [
      "### Display the value of each of the buffer stocks over time\n",
      "\n",
      "If we plot the stock levels over time, we can see (especially for the third order case) how the delay works to smooth out the input values."
     ]
    },
    {
     "cell_type": "code",
     "collapsed": false,
     "input": [
      "import pandas as pd\n",
      "delay_stock_values = pd.DataFrame(stocks_collector)\n",
      "delay_stock_values.plot()\n",
      "plt.xlabel('Time [Seconds]')\n",
      "plt.ylabel('Stock Level')"
     ],
     "language": "python",
     "metadata": {},
     "outputs": [
      {
       "metadata": {},
       "output_type": "pyout",
       "prompt_number": 3,
       "text": [
        "<matplotlib.text.Text at 0x108c7c590>"
       ]
      }
     ],
     "prompt_number": 3
    },
    {
     "cell_type": "code",
     "collapsed": false,
     "input": [],
     "language": "python",
     "metadata": {},
     "outputs": []
    }
   ],
   "metadata": {}
  }
 ]
}